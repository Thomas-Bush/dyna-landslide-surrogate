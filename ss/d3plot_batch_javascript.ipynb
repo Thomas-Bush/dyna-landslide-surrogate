{
 "cells": [
  {
   "cell_type": "code",
   "execution_count": 1,
   "metadata": {},
   "outputs": [],
   "source": [
    "import os\n",
    "import subprocess\n",
    "import glob"
   ]
  },
  {
   "cell_type": "markdown",
   "metadata": {},
   "source": [
    "# Functions\n"
   ]
  },
  {
   "cell_type": "code",
   "execution_count": 6,
   "metadata": {},
   "outputs": [],
   "source": [
    "def get_directories_at_level(base_path, level=1):\n",
    "    \"\"\"\n",
    "    Get a list of directories at the specified level.\n",
    "\n",
    "    Parameters:\n",
    "    - base_path: The path to the base directory.\n",
    "    - level: The depth of directories to retrieve.\n",
    "\n",
    "    Returns:\n",
    "    - A list of paths to directories at the specified level.\n",
    "    \"\"\"\n",
    "    base_level = base_path.rstrip(os.path.sep).count(os.path.sep)\n",
    "    directories_at_level = []\n",
    "\n",
    "    for root, dirs, _ in os.walk(base_path):\n",
    "        current_level = root.count(os.path.sep)\n",
    "        if current_level - base_level < level:\n",
    "            # Add the current level directories to the list\n",
    "            directories_at_level.extend([os.path.join(root, d) for d in dirs])\n",
    "        elif current_level - base_level == level:\n",
    "            # We have reached the desired level, stop walking deeper\n",
    "            break\n",
    "\n",
    "    return directories_at_level"
   ]
  },
  {
   "cell_type": "code",
   "execution_count": 14,
   "metadata": {},
   "outputs": [
    {
     "name": "stdout",
     "output_type": "stream",
     "text": [
      "C:\\Users\\thomas.bush\\Documents\\temp\\lsdyna-test\\data\\PSH01-SF01_CDF_60s_2mGrid_TS0\n",
      "C:\\Users\\thomas.bush\\Documents\\temp\\lsdyna-test\\data\\SB01-SF01_OHL_60s_3mGrid_TS0\n",
      "C:\\Users\\thomas.bush\\Documents\\temp\\lsdyna-test\\data\\SKW01-SF01_CDF_150s_5mGrid_TS0\n",
      "C:\\Users\\thomas.bush\\Documents\\temp\\lsdyna-test\\data\\PSH01-SF01_CDF_60s_2mGrid_TS0\\RAW_DATA\n",
      "C:\\Users\\thomas.bush\\Documents\\temp\\lsdyna-test\\data\\SB01-SF01_OHL_60s_3mGrid_TS0\\RAW_DATA\n",
      "C:\\Users\\thomas.bush\\Documents\\temp\\lsdyna-test\\data\\SKW01-SF01_CDF_150s_5mGrid_TS0\\RAW_DATA\n"
     ]
    }
   ],
   "source": [
    "base_directory = r\"C:\\Users\\thomas.bush\\Documents\\temp\\lsdyna-test\\data\"\n",
    "\n",
    "a = get_directories_at_level(base_directory, level=4)\n",
    "\n",
    "for dir in a:\n",
    "    print(dir)"
   ]
  },
  {
   "cell_type": "code",
   "execution_count": 2,
   "metadata": {},
   "outputs": [],
   "source": [
    "# Define the base directory where the subdirectories are located\n",
    "base_directory = r\"C:\\Users\\thomas.bush\\Documents\\temp\\lsdyna-test\\data\"\n",
    "\n",
    "# Define the path to the d3plot executable\n",
    "d3plot_executable = r\"C:\\Users\\thomas.bush\\AppData\\Roaming\\Ove Arup\\v21.0_x64\\d3plot21_0_x64.exe\"\n",
    "\n",
    "js_path = r\"C:\\Users\\thomas.bush\\Documents\\temp\\lsdyna-test\\extract_all_D3Plot.js\"\n",
    "\n"
   ]
  },
  {
   "cell_type": "code",
   "execution_count": 3,
   "metadata": {},
   "outputs": [
    {
     "name": "stdout",
     "output_type": "stream",
     "text": [
      "Processing directory: C:\\Users\\thomas.bush\\Documents\\temp\\lsdyna-test\\data\\PSH01-SF01_CDF_60s_2mGrid_TS0\n",
      "Processing directory: C:\\Users\\thomas.bush\\Documents\\temp\\lsdyna-test\\data\\SB01-SF01_OHL_60s_3mGrid_TS0\n",
      "Processing directory: C:\\Users\\thomas.bush\\Documents\\temp\\lsdyna-test\\data\\SKW01-SF01_CDF_150s_5mGrid_TS0\n",
      "Processing directory: C:\\Users\\thomas.bush\\Documents\\temp\\lsdyna-test\\data\\PSH01-SF01_CDF_60s_2mGrid_TS0\\RAW_DATA\n",
      "No .ptf file found in C:\\Users\\thomas.bush\\Documents\\temp\\lsdyna-test\\data\\PSH01-SF01_CDF_60s_2mGrid_TS0\\RAW_DATA. Skipping.\n",
      "Processing directory: C:\\Users\\thomas.bush\\Documents\\temp\\lsdyna-test\\data\\SB01-SF01_OHL_60s_3mGrid_TS0\\RAW_DATA\n",
      "No .ptf file found in C:\\Users\\thomas.bush\\Documents\\temp\\lsdyna-test\\data\\SB01-SF01_OHL_60s_3mGrid_TS0\\RAW_DATA. Skipping.\n",
      "Processing directory: C:\\Users\\thomas.bush\\Documents\\temp\\lsdyna-test\\data\\SKW01-SF01_CDF_150s_5mGrid_TS0\\RAW_DATA\n",
      "No .ptf file found in C:\\Users\\thomas.bush\\Documents\\temp\\lsdyna-test\\data\\SKW01-SF01_CDF_150s_5mGrid_TS0\\RAW_DATA. Skipping.\n"
     ]
    }
   ],
   "source": [
    "# Get only the immediate subdirectories of the base directory\n",
    "_, top_level_dirs, _ = next(os.walk(base_directory))\n",
    "\n",
    "# Iterate over each top-level subdirectory in the base directory\n",
    "for dir_name in top_level_dirs:\n",
    "    # Construct the full path to the subdirectory\n",
    "    full_dir_path = os.path.join(base_directory, dir_name)\n",
    "\n",
    "    # Change into the subdirectory\n",
    "    os.chdir(full_dir_path)\n",
    "    print(f\"Processing directory: {os.getcwd()}\")\n",
    "\n",
    "    # Find a file with the \".ptf\" extension (explicit match)\n",
    "    ptf_files = [f for f in os.listdir(full_dir_path) if f.lower().endswith('.ptf') and not f.lower().endswith('.ptf01') and not f.lower().endswith('.ptf02')]\n",
    "\n",
    "    # Check if there is exactly one .ptf file\n",
    "    if len(ptf_files) == 1:\n",
    "        ptf_file = ptf_files[0]\n",
    "        # Run the d3plot executable with the JavaScript script\n",
    "        subprocess.run([d3plot_executable, ptf_file, \"-js=\" + js_path, \"-exit\"], check=True)\n",
    "\n",
    "        # Rename .csv files in RAW_DATA directory\n",
    "        raw_data_dir = os.path.join(full_dir_path, \"RAW_DATA\")\n",
    "        if os.path.exists(raw_data_dir):\n",
    "            for csv_file in glob.glob(os.path.join(raw_data_dir, \"*.csv\")):\n",
    "                base_csv_filename = os.path.basename(csv_file)\n",
    "                new_csv_filename = f\"{dir_name}_{base_csv_filename}\"\n",
    "                new_csv_path = os.path.join(raw_data_dir, new_csv_filename)\n",
    "                try:\n",
    "                    os.rename(csv_file, new_csv_path)\n",
    "                except FileExistsError:\n",
    "                    # If the file already exists, remove it before renaming\n",
    "                    os.remove(new_csv_path)\n",
    "                    os.rename(csv_file, new_csv_path)\n",
    "    elif len(ptf_files) > 1:\n",
    "        print(f\"Multiple .ptf files found in {full_dir_path}. Skipping.\")\n",
    "    else:\n",
    "        print(f\"No .ptf file found in {full_dir_path}. Skipping.\")\n",
    "\n",
    "# Return to the base directory\n",
    "os.chdir(base_directory)"
   ]
  }
 ],
 "metadata": {
  "kernelspec": {
   "display_name": "lsdyna-test",
   "language": "python",
   "name": "python3"
  },
  "language_info": {
   "codemirror_mode": {
    "name": "ipython",
    "version": 3
   },
   "file_extension": ".py",
   "mimetype": "text/x-python",
   "name": "python",
   "nbconvert_exporter": "python",
   "pygments_lexer": "ipython3",
   "version": "3.11.7"
  }
 },
 "nbformat": 4,
 "nbformat_minor": 2
}
