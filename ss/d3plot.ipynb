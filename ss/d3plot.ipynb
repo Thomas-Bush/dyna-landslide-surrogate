{
 "cells": [
  {
   "cell_type": "code",
   "execution_count": 1,
   "metadata": {},
   "outputs": [],
   "source": [
    "import Oasys.D3PLOT\n",
    "import Oasys.PRIMER\n",
    "import pandas as pd\n",
    "import numpy as np\n",
    "\n",
    "D3PLOT_PATH = r\"C:\\Users\\thomas.bush\\AppData\\Roaming\\Ove Arup\\v21.0_x64\\d3plot21_0_x64.exe\"\n",
    "# D3PLOT_PATH = r\"C:\\Users\\thomas.bush\\AppData\\Roaming\\Ove Arup\\v21.0_x64\\d3plot21_x64.exe\"\n",
    "\n",
    "PRIMER_PATH = r\"C:\\Users\\thomas.bush\\AppData\\Roaming\\Ove Arup\\v21.0_x64\\primer21_0_x64.exe\"\n",
    "#PRIMER_PATH = r\"C:\\Users\\thomas.bush\\AppData\\Roaming\\Ove Arup\\v21.0_x64\\primer21_x64.exe\"\n",
    "\n",
    "\n",
    "connection = Oasys.D3PLOT.start(abspath=D3PLOT_PATH, batch=False, memory=100)\n",
    "\n",
    "#model = Oasys.D3PLOT.Model('data\\SKW01-SF01\\CDF_150s_5mGrid_TS0.7s\\SKW01-SF01.ptf')\n",
    "#model = Oasys.D3PLOT.Model('data\\PSH01-SF01\\CDF_60s_2mGrid_TS0.7s\\PSH01-SF01.ptf')\n",
    "model = Oasys.D3PLOT.Model('data\\SB01-SF01_OHL_60s_3mGrid_TS0\\SB01-SF01.ptf')"
   ]
  },
  {
   "cell_type": "code",
   "execution_count": 8,
   "metadata": {},
   "outputs": [],
   "source": [
    "JS_PATH = r\"C:\\Users\\thomas.bush\\Documents\\temp\\lsdyna-test\\extract_all_D3Plot.js\"\n",
    "\n",
    "execute_data = {\n",
    "    \"program\": JS_PATH,\n",
    "    #\"arguments\": \"\"\n",
    "}"
   ]
  },
  {
   "cell_type": "code",
   "execution_count": 9,
   "metadata": {},
   "outputs": [
    {
     "ename": "AssertionError",
     "evalue": "",
     "output_type": "error",
     "traceback": [
      "\u001b[1;31m---------------------------------------------------------------------------\u001b[0m",
      "\u001b[1;31mAssertionError\u001b[0m                            Traceback (most recent call last)",
      "Cell \u001b[1;32mIn[9], line 1\u001b[0m\n\u001b[1;32m----> 1\u001b[0m \u001b[43mOasys\u001b[49m\u001b[38;5;241;43m.\u001b[39;49m\u001b[43mD3PLOT\u001b[49m\u001b[38;5;241;43m.\u001b[39;49m\u001b[43mExecute\u001b[49m\u001b[43m(\u001b[49m\u001b[43mexecute_data\u001b[49m\u001b[43m)\u001b[49m\n",
      "File \u001b[1;32mc:\\Users\\thomas.bush\\AppData\\Local\\miniforge3\\envs\\lsdyna-test\\Lib\\site-packages\\Oasys\\D3PLOT\\funcs.py:49\u001b[0m, in \u001b[0;36mExecute\u001b[1;34m(data)\u001b[0m\n\u001b[0;32m     35\u001b[0m \u001b[38;5;28;01mdef\u001b[39;00m \u001b[38;5;21mExecute\u001b[39m(data):\n\u001b[0;32m     36\u001b[0m \u001b[38;5;250m    \u001b[39m\u001b[38;5;124;03m\"\"\"\u001b[39;00m\n\u001b[0;32m     37\u001b[0m \u001b[38;5;124;03m    Execute a program or script outside D3PLOT and get the standard output and error streams\u001b[39;00m\n\u001b[0;32m     38\u001b[0m \n\u001b[1;32m   (...)\u001b[0m\n\u001b[0;32m     47\u001b[0m \u001b[38;5;124;03m        Dict with properties\u001b[39;00m\n\u001b[0;32m     48\u001b[0m \u001b[38;5;124;03m    \"\"\"\u001b[39;00m\n\u001b[1;32m---> 49\u001b[0m     \u001b[38;5;28;01mreturn\u001b[39;00m \u001b[43mOasys\u001b[49m\u001b[38;5;241;43m.\u001b[39;49m\u001b[43mD3PLOT\u001b[49m\u001b[38;5;241;43m.\u001b[39;49m\u001b[43m_connection\u001b[49m\u001b[38;5;241;43m.\u001b[39;49m\u001b[43mfunctionCall\u001b[49m\u001b[43m(\u001b[49m\u001b[38;5;124;43m\"\u001b[39;49m\u001b[38;5;124;43mExecute\u001b[39;49m\u001b[38;5;124;43m\"\u001b[39;49m\u001b[43m,\u001b[49m\u001b[43m \u001b[49m\u001b[43mdata\u001b[49m\u001b[43m)\u001b[49m\n",
      "File \u001b[1;32mc:\\Users\\thomas.bush\\AppData\\Local\\miniforge3\\envs\\lsdyna-test\\Lib\\site-packages\\Oasys\\gRPC\\connection.py:94\u001b[0m, in \u001b[0;36mConnection.functionCall\u001b[1;34m(self, func, *args)\u001b[0m\n\u001b[0;32m     91\u001b[0m         response \u001b[38;5;241m=\u001b[39m \u001b[38;5;28mself\u001b[39m\u001b[38;5;241m.\u001b[39mstub\u001b[38;5;241m.\u001b[39mFunction(request)\n\u001b[0;32m     92\u001b[0m         \u001b[38;5;28mself\u001b[39m\u001b[38;5;241m.\u001b[39mdbg(\u001b[38;5;124m\"\u001b[39m\u001b[38;5;124mReturned \u001b[39m\u001b[38;5;132;01m{}\u001b[39;00m\u001b[38;5;124m \u001b[39m\u001b[38;5;124m'\u001b[39m\u001b[38;5;132;01m{}\u001b[39;00m\u001b[38;5;124m'\u001b[39m\u001b[38;5;124m\"\u001b[39m\u001b[38;5;241m.\u001b[39mformat(response\u001b[38;5;241m.\u001b[39mstatus, response\u001b[38;5;241m.\u001b[39mmessage))\n\u001b[1;32m---> 94\u001b[0m         \u001b[38;5;28;01massert\u001b[39;00m response\u001b[38;5;241m.\u001b[39mstatus \u001b[38;5;241m==\u001b[39m Oasys\u001b[38;5;241m.\u001b[39mgRPC\u001b[38;5;241m.\u001b[39moasys_pb2\u001b[38;5;241m.\u001b[39mSTATUS_OK\n\u001b[0;32m     96\u001b[0m \u001b[38;5;66;03m# Decode the response value\u001b[39;00m\n\u001b[0;32m     97\u001b[0m         \u001b[38;5;28;01mreturn\u001b[39;00m \u001b[38;5;28mself\u001b[39m\u001b[38;5;241m.\u001b[39mdecode_response_value(response\u001b[38;5;241m.\u001b[39mvalue)\n",
      "\u001b[1;31mAssertionError\u001b[0m: "
     ]
    }
   ],
   "source": [
    "Oasys.D3PLOT.Execute(execute_data)"
   ]
  },
  {
   "cell_type": "code",
   "execution_count": null,
   "metadata": {},
   "outputs": [],
   "source": []
  },
  {
   "cell_type": "code",
   "execution_count": null,
   "metadata": {},
   "outputs": [],
   "source": []
  },
  {
   "cell_type": "code",
   "execution_count": 3,
   "metadata": {},
   "outputs": [],
   "source": [
    "nodes = Oasys.D3PLOT.Node.GetAll(model)\n",
    "\n",
    "states = model.states\n",
    "\n",
    "c_vm = Oasys.D3PLOT.Component.VM\n",
    "\n"
   ]
  },
  {
   "cell_type": "code",
   "execution_count": 7,
   "metadata": {},
   "outputs": [],
   "source": [
    "Oasys.D3PLOT.Node.GetMultipleData(c_vm, nodes)"
   ]
  },
  {
   "cell_type": "code",
   "execution_count": 9,
   "metadata": {},
   "outputs": [],
   "source": [
    "data_array = np.array([node.data for node in nodes if node.data is not None])"
   ]
  },
  {
   "cell_type": "code",
   "execution_count": null,
   "metadata": {},
   "outputs": [],
   "source": [
    "#node_labels = [node.label for node in nodes]\n",
    "#node_idxs = [node.index for node in nodes]\n",
    "\n",
    "c_vm = Oasys.D3PLOT.Node.GetMultipleData(component=c_vm, items=nodes)"
   ]
  },
  {
   "cell_type": "code",
   "execution_count": null,
   "metadata": {},
   "outputs": [],
   "source": [
    "len(c_vm)"
   ]
  },
  {
   "cell_type": "code",
   "execution_count": null,
   "metadata": {},
   "outputs": [],
   "source": [
    "node_labels_map = list(map(lambda node: node.label, nodes))"
   ]
  },
  {
   "cell_type": "code",
   "execution_count": null,
   "metadata": {},
   "outputs": [],
   "source": [
    "node_labels_map_get = list(map(lambda node: getattr(node, 'label', None), nodes))"
   ]
  },
  {
   "cell_type": "code",
   "execution_count": null,
   "metadata": {},
   "outputs": [],
   "source": [
    "# Preallocate a DataFrame with zeros\n",
    "df = pd.DataFrame(np.zeros((len(node_labels), states)), index=node_labels, columns=[f'State {i}' for i in range(1, states + 1)])\n",
    "\n",
    "# Fetch the data for all states in one go if possible. If not, then:\n",
    "for i in range(1, states + 1):\n",
    "    model.state = i\n",
    "    # Get the data for all nodes at state i (assuming this is the bottleneck)\n",
    "    Oasys.D3PLOT.Node.GetMultipleData(c_vm, nodes)\n",
    "    node_data = [node.data for node in nodes]\n",
    "    print(f\"iteration {i}, max vel = {max(node_data)}\")\n",
    "    \n",
    "    # If node_data is a list or numpy array, directly assign the data to the DataFrame\n",
    "    # Ensure node_data is in the same order as node_labels\n",
    "    df.iloc[:, i - 1] = node_data\n",
    "\n",
    "# Replace any None or NaN values with zeros, if necessary\n",
    "df.fillna(0, inplace=True)"
   ]
  },
  {
   "cell_type": "code",
   "execution_count": null,
   "metadata": {},
   "outputs": [],
   "source": [
    "len(df)"
   ]
  },
  {
   "cell_type": "code",
   "execution_count": null,
   "metadata": {},
   "outputs": [],
   "source": [
    "df.to_csv(\"test.csv\")"
   ]
  },
  {
   "cell_type": "code",
   "execution_count": null,
   "metadata": {},
   "outputs": [],
   "source": [
    "max_of_max_values = df.max().max()\n",
    "\n",
    "print(max_of_max_values)"
   ]
  },
  {
   "cell_type": "code",
   "execution_count": null,
   "metadata": {},
   "outputs": [],
   "source": [
    "max_values = df.max()\n",
    "print(max_values)"
   ]
  },
  {
   "cell_type": "code",
   "execution_count": null,
   "metadata": {},
   "outputs": [],
   "source": [
    "model = Oasys.D3PLOT.Model('data\\SKW01-SF01\\CDF_150s_5mGrid_TS0.7s\\SKW01-SF01.ptf')"
   ]
  },
  {
   "cell_type": "code",
   "execution_count": null,
   "metadata": {},
   "outputs": [],
   "source": [
    "nodes = Oasys.D3PLOT.Node.GetAll(model)"
   ]
  },
  {
   "cell_type": "code",
   "execution_count": null,
   "metadata": {},
   "outputs": [],
   "source": [
    "test_df = pd.read_csv('psh_test_native_export.csv', skiprows=[1])"
   ]
  },
  {
   "cell_type": "code",
   "execution_count": null,
   "metadata": {},
   "outputs": [],
   "source": [
    "max_values = test_df.max()\n",
    "print(max_values)"
   ]
  },
  {
   "cell_type": "code",
   "execution_count": null,
   "metadata": {},
   "outputs": [],
   "source": [
    "max_of_max_values = test_df.max().max()\n",
    "\n",
    "print(max_of_max_values)"
   ]
  },
  {
   "cell_type": "markdown",
   "metadata": {},
   "source": [
    "Looping through States"
   ]
  },
  {
   "cell_type": "code",
   "execution_count": null,
   "metadata": {},
   "outputs": [],
   "source": [
    "states = model.states\n",
    "\n",
    "for i in range(1, states+1):\n",
    "    print(model.Time(i))"
   ]
  },
  {
   "cell_type": "code",
   "execution_count": null,
   "metadata": {},
   "outputs": [],
   "source": [
    "c_vm = Oasys.D3PLOT.Component.VM"
   ]
  },
  {
   "cell_type": "code",
   "execution_count": null,
   "metadata": {},
   "outputs": [],
   "source": [
    "vm = []\n",
    "\n",
    "for node in nodes:\n",
    "    vm_val = node.GetData(c_vm)\n",
    "    vm.append(vm_val)\n"
   ]
  },
  {
   "cell_type": "code",
   "execution_count": null,
   "metadata": {},
   "outputs": [],
   "source": [
    "print(max(vm))"
   ]
  },
  {
   "cell_type": "markdown",
   "metadata": {},
   "source": [
    "Get all data for nodes within a state\n"
   ]
  },
  {
   "cell_type": "code",
   "execution_count": null,
   "metadata": {},
   "outputs": [],
   "source": [
    "node_vm_data = Oasys.D3PLOT.Node.GetMultipleData(c_vm, nodes)"
   ]
  },
  {
   "cell_type": "code",
   "execution_count": null,
   "metadata": {},
   "outputs": [],
   "source": [
    "nodes[5].type"
   ]
  },
  {
   "cell_type": "code",
   "execution_count": null,
   "metadata": {},
   "outputs": [],
   "source": [
    "Oasys.D3PLOT.terminate(connection)"
   ]
  },
  {
   "cell_type": "code",
   "execution_count": null,
   "metadata": {},
   "outputs": [],
   "source": []
  },
  {
   "cell_type": "code",
   "execution_count": null,
   "metadata": {},
   "outputs": [],
   "source": []
  }
 ],
 "metadata": {
  "kernelspec": {
   "display_name": "lsdyna-test",
   "language": "python",
   "name": "python3"
  },
  "language_info": {
   "codemirror_mode": {
    "name": "ipython",
    "version": 3
   },
   "file_extension": ".py",
   "mimetype": "text/x-python",
   "name": "python",
   "nbconvert_exporter": "python",
   "pygments_lexer": "ipython3",
   "version": "3.11.7"
  }
 },
 "nbformat": 4,
 "nbformat_minor": 2
}
