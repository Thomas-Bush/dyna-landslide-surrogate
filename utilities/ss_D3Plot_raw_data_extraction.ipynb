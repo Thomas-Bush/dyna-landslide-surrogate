{
 "cells": [
  {
   "cell_type": "code",
   "execution_count": 3,
   "metadata": {},
   "outputs": [],
   "source": [
    "from D3Plot_utils import find_ptf_files_at_folder_depth\n",
    "from D3Plot_utils import run_js_in_ptf\n"
   ]
  },
  {
   "cell_type": "code",
   "execution_count": 5,
   "metadata": {},
   "outputs": [],
   "source": [
    "# Set Paths\n",
    "d3plot_executable = r\"C:\\Users\\thomas.bush\\AppData\\Roaming\\Ove Arup\\v21.0_x64\\d3plot21_0_x64.exe\"\n",
    "base_directory = r\"C:\\Users\\thomas.bush\\Documents\\temp\\lsdyna-test\\data\"\n",
    "js_path = r\"C:\\Users\\thomas.bush\\Documents\\temp\\lsdyna-test\\D3Plot_extract_raw_debris.js\"\n",
    "\n",
    "# Specify the level of directories you want to search for .ptf files\n",
    "walk_levels = 1  \n",
    "\n",
    "# Find all .ptf files at the specified depth\n",
    "ptf_files_at_level = find_ptf_files_at_folder_depth(base_directory, walk_levels)\n",
    "\n",
    "# Process each .ptf file\n",
    "for ptf_path in ptf_files_at_level:\n",
    "    run_js_in_ptf(d3plot_executable, ptf_path, js_path)\n",
    "\n"
   ]
  }
 ],
 "metadata": {
  "kernelspec": {
   "display_name": "lsdyna-test",
   "language": "python",
   "name": "python3"
  },
  "language_info": {
   "codemirror_mode": {
    "name": "ipython",
    "version": 3
   },
   "file_extension": ".py",
   "mimetype": "text/x-python",
   "name": "python",
   "nbconvert_exporter": "python",
   "pygments_lexer": "ipython3",
   "version": "3.11.7"
  }
 },
 "nbformat": 4,
 "nbformat_minor": 2
}
