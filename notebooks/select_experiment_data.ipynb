{
 "cells": [
  {
   "cell_type": "code",
   "execution_count": 8,
   "metadata": {},
   "outputs": [],
   "source": [
    "import os\n",
    "import random\n",
    "import shutil"
   ]
  },
  {
   "cell_type": "code",
   "execution_count": 9,
   "metadata": {},
   "outputs": [],
   "source": [
    "base_path = \"/home/tom/repos/dyna-landslide-surrogate/data\""
   ]
  },
  {
   "cell_type": "code",
   "execution_count": 10,
   "metadata": {},
   "outputs": [],
   "source": [
    "def count_thickness_files():\n",
    "    model_counts = {}\n",
    "    for model_id in os.listdir(base_path):\n",
    "        thickness_path = os.path.join(base_path, model_id, '04_FinalProcessedData_256', 'thickness')\n",
    "        if os.path.isdir(thickness_path):\n",
    "            num_files = len(os.listdir(thickness_path))\n",
    "            model_counts[model_id] = num_files\n",
    "    return model_counts\n",
    "\n",
    "model_counts = count_thickness_files()"
   ]
  },
  {
   "cell_type": "code",
   "execution_count": 11,
   "metadata": {},
   "outputs": [],
   "source": [
    "def total_thickness_files_all_models(model_counts):\n",
    "    return sum(model_counts.values())\n",
    "\n",
    "# Calculate total thickness files in all models\n",
    "total_files_all_models = total_thickness_files_all_models(model_counts)"
   ]
  },
  {
   "cell_type": "code",
   "execution_count": 12,
   "metadata": {},
   "outputs": [],
   "source": [
    "def select_random_models(model_counts, percentage=20):\n",
    "    num_to_select = max(1, int(len(model_counts) * percentage / 100))\n",
    "    selected_models = random.sample(list(model_counts.keys()), num_to_select)\n",
    "    return selected_models\n",
    "\n",
    "selected_models = select_random_models(model_counts)"
   ]
  },
  {
   "cell_type": "code",
   "execution_count": 13,
   "metadata": {},
   "outputs": [],
   "source": [
    "def total_thickness_files(selected_models, model_counts):\n",
    "    total_files = sum(model_counts[model_id] for model_id in selected_models)\n",
    "    return total_files\n",
    "\n",
    "total_selected_files = total_thickness_files(selected_models, model_counts)"
   ]
  },
  {
   "cell_type": "code",
   "execution_count": 14,
   "metadata": {},
   "outputs": [
    {
     "name": "stdout",
     "output_type": "stream",
     "text": [
      "Selected Model IDs: ['00012', '00268', '00204', '00166', '00102', '00183', '00338', '00097', '00182', '00330', '00354', '00172', '00334', '00137', '00023', '00004', '00055', '00178', '00220', '00149', '00372', '00352', '00395', '00238', '00376', '00134', '00356', '00390', '00033', '00114', '00215', '00209', '00378', '00024', '00240', '00380', '00366', '00151', '00020', '00336', '00297', '00076', '00203', '00090', '00346', '00273', '00370', '00311', '00270', '00357', '00353', '00362', '00286', '00015', '00301', '00141', '00048', '00007', '00091', '00198', '00295', '00005', '00405', '00325', '00174', '00013', '00200', '00025', '00070', '00164', '00348', '00253', '00170', '00291', '00040', '00199']\n",
      "Total number of thickness files in selected models: 12118\n",
      "Total number of thickness files in all models: 56100\n"
     ]
    }
   ],
   "source": [
    "print(f\"Selected Model IDs: {selected_models}\")\n",
    "print(f\"Total number of thickness files in selected models: {total_selected_files}\")\n",
    "print(f\"Total number of thickness files in all models: {total_files_all_models}\")"
   ]
  },
  {
   "cell_type": "code",
   "execution_count": 15,
   "metadata": {},
   "outputs": [],
   "source": [
    "def copy_selected_models(selected_models, base_path, target_path):\n",
    "    for model_id in selected_models:\n",
    "        src_path = os.path.join(base_path, model_id)\n",
    "        dest_path = os.path.join(target_path, model_id)\n",
    "\n",
    "        # Check if the destination path already exists\n",
    "        if os.path.exists(dest_path):\n",
    "            print(f\"Directory {dest_path} already exists. Skipping...\")\n",
    "            continue\n",
    "\n",
    "        # Copy the directory\n",
    "        shutil.copytree(src_path, dest_path)\n",
    "        print(f\"Copied {src_path} to {dest_path}\")"
   ]
  },
  {
   "cell_type": "code",
   "execution_count": 16,
   "metadata": {},
   "outputs": [
    {
     "name": "stdout",
     "output_type": "stream",
     "text": [
      "Copied /home/tom/repos/dyna-landslide-surrogate/data/00012 to /home/tom/repos/dyna-landslide-surrogate/data_experiment/00012\n",
      "Copied /home/tom/repos/dyna-landslide-surrogate/data/00268 to /home/tom/repos/dyna-landslide-surrogate/data_experiment/00268\n",
      "Copied /home/tom/repos/dyna-landslide-surrogate/data/00204 to /home/tom/repos/dyna-landslide-surrogate/data_experiment/00204\n",
      "Copied /home/tom/repos/dyna-landslide-surrogate/data/00166 to /home/tom/repos/dyna-landslide-surrogate/data_experiment/00166\n",
      "Copied /home/tom/repos/dyna-landslide-surrogate/data/00102 to /home/tom/repos/dyna-landslide-surrogate/data_experiment/00102\n",
      "Copied /home/tom/repos/dyna-landslide-surrogate/data/00183 to /home/tom/repos/dyna-landslide-surrogate/data_experiment/00183\n",
      "Copied /home/tom/repos/dyna-landslide-surrogate/data/00338 to /home/tom/repos/dyna-landslide-surrogate/data_experiment/00338\n",
      "Copied /home/tom/repos/dyna-landslide-surrogate/data/00097 to /home/tom/repos/dyna-landslide-surrogate/data_experiment/00097\n",
      "Copied /home/tom/repos/dyna-landslide-surrogate/data/00182 to /home/tom/repos/dyna-landslide-surrogate/data_experiment/00182\n",
      "Copied /home/tom/repos/dyna-landslide-surrogate/data/00330 to /home/tom/repos/dyna-landslide-surrogate/data_experiment/00330\n",
      "Copied /home/tom/repos/dyna-landslide-surrogate/data/00354 to /home/tom/repos/dyna-landslide-surrogate/data_experiment/00354\n",
      "Copied /home/tom/repos/dyna-landslide-surrogate/data/00172 to /home/tom/repos/dyna-landslide-surrogate/data_experiment/00172\n",
      "Copied /home/tom/repos/dyna-landslide-surrogate/data/00334 to /home/tom/repos/dyna-landslide-surrogate/data_experiment/00334\n",
      "Copied /home/tom/repos/dyna-landslide-surrogate/data/00137 to /home/tom/repos/dyna-landslide-surrogate/data_experiment/00137\n",
      "Copied /home/tom/repos/dyna-landslide-surrogate/data/00023 to /home/tom/repos/dyna-landslide-surrogate/data_experiment/00023\n",
      "Copied /home/tom/repos/dyna-landslide-surrogate/data/00004 to /home/tom/repos/dyna-landslide-surrogate/data_experiment/00004\n",
      "Copied /home/tom/repos/dyna-landslide-surrogate/data/00055 to /home/tom/repos/dyna-landslide-surrogate/data_experiment/00055\n",
      "Copied /home/tom/repos/dyna-landslide-surrogate/data/00178 to /home/tom/repos/dyna-landslide-surrogate/data_experiment/00178\n",
      "Copied /home/tom/repos/dyna-landslide-surrogate/data/00220 to /home/tom/repos/dyna-landslide-surrogate/data_experiment/00220\n",
      "Copied /home/tom/repos/dyna-landslide-surrogate/data/00149 to /home/tom/repos/dyna-landslide-surrogate/data_experiment/00149\n",
      "Copied /home/tom/repos/dyna-landslide-surrogate/data/00372 to /home/tom/repos/dyna-landslide-surrogate/data_experiment/00372\n",
      "Copied /home/tom/repos/dyna-landslide-surrogate/data/00352 to /home/tom/repos/dyna-landslide-surrogate/data_experiment/00352\n",
      "Copied /home/tom/repos/dyna-landslide-surrogate/data/00395 to /home/tom/repos/dyna-landslide-surrogate/data_experiment/00395\n",
      "Copied /home/tom/repos/dyna-landslide-surrogate/data/00238 to /home/tom/repos/dyna-landslide-surrogate/data_experiment/00238\n",
      "Copied /home/tom/repos/dyna-landslide-surrogate/data/00376 to /home/tom/repos/dyna-landslide-surrogate/data_experiment/00376\n",
      "Copied /home/tom/repos/dyna-landslide-surrogate/data/00134 to /home/tom/repos/dyna-landslide-surrogate/data_experiment/00134\n",
      "Copied /home/tom/repos/dyna-landslide-surrogate/data/00356 to /home/tom/repos/dyna-landslide-surrogate/data_experiment/00356\n",
      "Copied /home/tom/repos/dyna-landslide-surrogate/data/00390 to /home/tom/repos/dyna-landslide-surrogate/data_experiment/00390\n",
      "Copied /home/tom/repos/dyna-landslide-surrogate/data/00033 to /home/tom/repos/dyna-landslide-surrogate/data_experiment/00033\n",
      "Copied /home/tom/repos/dyna-landslide-surrogate/data/00114 to /home/tom/repos/dyna-landslide-surrogate/data_experiment/00114\n",
      "Copied /home/tom/repos/dyna-landslide-surrogate/data/00215 to /home/tom/repos/dyna-landslide-surrogate/data_experiment/00215\n",
      "Copied /home/tom/repos/dyna-landslide-surrogate/data/00209 to /home/tom/repos/dyna-landslide-surrogate/data_experiment/00209\n",
      "Copied /home/tom/repos/dyna-landslide-surrogate/data/00378 to /home/tom/repos/dyna-landslide-surrogate/data_experiment/00378\n",
      "Copied /home/tom/repos/dyna-landslide-surrogate/data/00024 to /home/tom/repos/dyna-landslide-surrogate/data_experiment/00024\n",
      "Copied /home/tom/repos/dyna-landslide-surrogate/data/00240 to /home/tom/repos/dyna-landslide-surrogate/data_experiment/00240\n",
      "Copied /home/tom/repos/dyna-landslide-surrogate/data/00380 to /home/tom/repos/dyna-landslide-surrogate/data_experiment/00380\n",
      "Copied /home/tom/repos/dyna-landslide-surrogate/data/00366 to /home/tom/repos/dyna-landslide-surrogate/data_experiment/00366\n",
      "Copied /home/tom/repos/dyna-landslide-surrogate/data/00151 to /home/tom/repos/dyna-landslide-surrogate/data_experiment/00151\n",
      "Copied /home/tom/repos/dyna-landslide-surrogate/data/00020 to /home/tom/repos/dyna-landslide-surrogate/data_experiment/00020\n",
      "Copied /home/tom/repos/dyna-landslide-surrogate/data/00336 to /home/tom/repos/dyna-landslide-surrogate/data_experiment/00336\n",
      "Copied /home/tom/repos/dyna-landslide-surrogate/data/00297 to /home/tom/repos/dyna-landslide-surrogate/data_experiment/00297\n",
      "Copied /home/tom/repos/dyna-landslide-surrogate/data/00076 to /home/tom/repos/dyna-landslide-surrogate/data_experiment/00076\n",
      "Copied /home/tom/repos/dyna-landslide-surrogate/data/00203 to /home/tom/repos/dyna-landslide-surrogate/data_experiment/00203\n",
      "Copied /home/tom/repos/dyna-landslide-surrogate/data/00090 to /home/tom/repos/dyna-landslide-surrogate/data_experiment/00090\n",
      "Copied /home/tom/repos/dyna-landslide-surrogate/data/00346 to /home/tom/repos/dyna-landslide-surrogate/data_experiment/00346\n",
      "Copied /home/tom/repos/dyna-landslide-surrogate/data/00273 to /home/tom/repos/dyna-landslide-surrogate/data_experiment/00273\n",
      "Copied /home/tom/repos/dyna-landslide-surrogate/data/00370 to /home/tom/repos/dyna-landslide-surrogate/data_experiment/00370\n",
      "Copied /home/tom/repos/dyna-landslide-surrogate/data/00311 to /home/tom/repos/dyna-landslide-surrogate/data_experiment/00311\n",
      "Copied /home/tom/repos/dyna-landslide-surrogate/data/00270 to /home/tom/repos/dyna-landslide-surrogate/data_experiment/00270\n",
      "Copied /home/tom/repos/dyna-landslide-surrogate/data/00357 to /home/tom/repos/dyna-landslide-surrogate/data_experiment/00357\n",
      "Copied /home/tom/repos/dyna-landslide-surrogate/data/00353 to /home/tom/repos/dyna-landslide-surrogate/data_experiment/00353\n",
      "Copied /home/tom/repos/dyna-landslide-surrogate/data/00362 to /home/tom/repos/dyna-landslide-surrogate/data_experiment/00362\n",
      "Copied /home/tom/repos/dyna-landslide-surrogate/data/00286 to /home/tom/repos/dyna-landslide-surrogate/data_experiment/00286\n",
      "Copied /home/tom/repos/dyna-landslide-surrogate/data/00015 to /home/tom/repos/dyna-landslide-surrogate/data_experiment/00015\n",
      "Copied /home/tom/repos/dyna-landslide-surrogate/data/00301 to /home/tom/repos/dyna-landslide-surrogate/data_experiment/00301\n",
      "Copied /home/tom/repos/dyna-landslide-surrogate/data/00141 to /home/tom/repos/dyna-landslide-surrogate/data_experiment/00141\n",
      "Copied /home/tom/repos/dyna-landslide-surrogate/data/00048 to /home/tom/repos/dyna-landslide-surrogate/data_experiment/00048\n",
      "Copied /home/tom/repos/dyna-landslide-surrogate/data/00007 to /home/tom/repos/dyna-landslide-surrogate/data_experiment/00007\n",
      "Copied /home/tom/repos/dyna-landslide-surrogate/data/00091 to /home/tom/repos/dyna-landslide-surrogate/data_experiment/00091\n",
      "Copied /home/tom/repos/dyna-landslide-surrogate/data/00198 to /home/tom/repos/dyna-landslide-surrogate/data_experiment/00198\n",
      "Copied /home/tom/repos/dyna-landslide-surrogate/data/00295 to /home/tom/repos/dyna-landslide-surrogate/data_experiment/00295\n",
      "Copied /home/tom/repos/dyna-landslide-surrogate/data/00005 to /home/tom/repos/dyna-landslide-surrogate/data_experiment/00005\n",
      "Copied /home/tom/repos/dyna-landslide-surrogate/data/00405 to /home/tom/repos/dyna-landslide-surrogate/data_experiment/00405\n",
      "Copied /home/tom/repos/dyna-landslide-surrogate/data/00325 to /home/tom/repos/dyna-landslide-surrogate/data_experiment/00325\n",
      "Copied /home/tom/repos/dyna-landslide-surrogate/data/00174 to /home/tom/repos/dyna-landslide-surrogate/data_experiment/00174\n",
      "Copied /home/tom/repos/dyna-landslide-surrogate/data/00013 to /home/tom/repos/dyna-landslide-surrogate/data_experiment/00013\n",
      "Copied /home/tom/repos/dyna-landslide-surrogate/data/00200 to /home/tom/repos/dyna-landslide-surrogate/data_experiment/00200\n",
      "Copied /home/tom/repos/dyna-landslide-surrogate/data/00025 to /home/tom/repos/dyna-landslide-surrogate/data_experiment/00025\n",
      "Copied /home/tom/repos/dyna-landslide-surrogate/data/00070 to /home/tom/repos/dyna-landslide-surrogate/data_experiment/00070\n",
      "Copied /home/tom/repos/dyna-landslide-surrogate/data/00164 to /home/tom/repos/dyna-landslide-surrogate/data_experiment/00164\n",
      "Copied /home/tom/repos/dyna-landslide-surrogate/data/00348 to /home/tom/repos/dyna-landslide-surrogate/data_experiment/00348\n",
      "Copied /home/tom/repos/dyna-landslide-surrogate/data/00253 to /home/tom/repos/dyna-landslide-surrogate/data_experiment/00253\n",
      "Copied /home/tom/repos/dyna-landslide-surrogate/data/00170 to /home/tom/repos/dyna-landslide-surrogate/data_experiment/00170\n",
      "Copied /home/tom/repos/dyna-landslide-surrogate/data/00291 to /home/tom/repos/dyna-landslide-surrogate/data_experiment/00291\n",
      "Copied /home/tom/repos/dyna-landslide-surrogate/data/00040 to /home/tom/repos/dyna-landslide-surrogate/data_experiment/00040\n",
      "Copied /home/tom/repos/dyna-landslide-surrogate/data/00199 to /home/tom/repos/dyna-landslide-surrogate/data_experiment/00199\n"
     ]
    }
   ],
   "source": [
    "# Define the target directory\n",
    "target_directory = '/home/tom/repos/dyna-landslide-surrogate/data_experiment'\n",
    "\n",
    "# Make sure the target directory exists, create if it does not\n",
    "if not os.path.exists(target_directory):\n",
    "    os.makedirs(target_directory)\n",
    "\n",
    "# Copy selected model directories to the target directory\n",
    "copy_selected_models(selected_models, base_path, target_directory)"
   ]
  }
 ],
 "metadata": {
  "kernelspec": {
   "display_name": "cuda",
   "language": "python",
   "name": "python3"
  },
  "language_info": {
   "codemirror_mode": {
    "name": "ipython",
    "version": 3
   },
   "file_extension": ".py",
   "mimetype": "text/x-python",
   "name": "python",
   "nbconvert_exporter": "python",
   "pygments_lexer": "ipython3",
   "version": "3.12.2"
  }
 },
 "nbformat": 4,
 "nbformat_minor": 2
}
