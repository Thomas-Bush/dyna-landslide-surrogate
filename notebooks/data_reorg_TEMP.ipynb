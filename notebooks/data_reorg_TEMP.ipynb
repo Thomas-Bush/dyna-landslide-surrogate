{
 "cells": [
  {
   "cell_type": "code",
   "execution_count": 6,
   "metadata": {},
   "outputs": [],
   "source": [
    "from nb_utils import add_parent_dir_to_path\n",
    "\n",
    "add_parent_dir_to_path()\n",
    "\n",
    "import os\n",
    "import shutil"
   ]
  },
  {
   "cell_type": "code",
   "execution_count": 15,
   "metadata": {},
   "outputs": [],
   "source": [
    "def reorganize_structure(model_dir):\n",
    "    \"\"\"Reorganize the data directory to match the new structure.\n",
    "\n",
    "    Args:\n",
    "        model_dir (str): The path to the data directory containing model subdirectories.\n",
    "\n",
    "    Returns:\n",
    "        None: It reorganizes the directory structure by moving files with 'ptf' in their extension,\n",
    "              creating necessary subdirectories, and renaming folders.\n",
    "    \"\"\"\n",
    "    for model in os.listdir(model_dir):\n",
    "        model_path = os.path.join(model_dir, model)\n",
    "        if os.path.isdir(model_path):\n",
    "            # Rename \"RAW_DATA\" to \"02_extract\"\n",
    "            raw_data_path = os.path.join(model_path, 'RAW_DATA')\n",
    "            extract_path = os.path.join(model_path, '02_extract')\n",
    "            if os.path.exists(raw_data_path):\n",
    "                os.rename(raw_data_path, extract_path)\n",
    "\n",
    "            # Create '01_d3plot/ptf' and '01_d3plot/image' directories\n",
    "            d3plot_ptf_path = os.path.join(model_path, '01_d3plot/ptf')\n",
    "            d3plot_image_path = os.path.join(model_path, '01_d3plot/image')\n",
    "            os.makedirs(d3plot_ptf_path, exist_ok=True)\n",
    "            os.makedirs(d3plot_image_path, exist_ok=True)\n",
    "\n",
    "            # Move files with 'ptf' in the extension to '01_d3plot/ptf'\n",
    "            for filename in os.listdir(model_path):\n",
    "                if 'ptf' in os.path.splitext(filename)[1]:\n",
    "                    ptf_file_path = os.path.join(model_path, filename)\n",
    "                    shutil.move(ptf_file_path, d3plot_ptf_path)\n",
    "\n",
    "        print(f\"{model} is done!\")"
   ]
  },
  {
   "cell_type": "code",
   "execution_count": 16,
   "metadata": {},
   "outputs": [
    {
     "name": "stdout",
     "output_type": "stream",
     "text": [
      "00001 is done!\n",
      "00002 is done!\n",
      "00003 is done!\n",
      "00004 is done!\n",
      "00005 is done!\n",
      "00006 is done!\n",
      "00007 is done!\n",
      "00008 is done!\n",
      "00009 is done!\n",
      "00010 is done!\n"
     ]
    }
   ],
   "source": [
    "DATA_PATH = r\"\\\\global\\EastAsia\\HKG\\Group\\GEO\\Specialism\\Engineering Geology\\AI\\01 LSDyna Surrogate\\Data\\data\"\n",
    "\n",
    "reorganize_structure(DATA_PATH)"
   ]
  }
 ],
 "metadata": {
  "kernelspec": {
   "display_name": "dyna-landslide-surrogate",
   "language": "python",
   "name": "python3"
  },
  "language_info": {
   "codemirror_mode": {
    "name": "ipython",
    "version": 3
   },
   "file_extension": ".py",
   "mimetype": "text/x-python",
   "name": "python",
   "nbconvert_exporter": "python",
   "pygments_lexer": "ipython3",
   "version": "3.11.8"
  }
 },
 "nbformat": 4,
 "nbformat_minor": 2
}
