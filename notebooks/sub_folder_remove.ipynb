{
 "cells": [
  {
   "cell_type": "code",
   "execution_count": 1,
   "metadata": {},
   "outputs": [],
   "source": [
    "import os\n",
    "import shutil\n",
    "\n",
    "def remove_subfolder(root_dir, target_folder_name):\n",
    "    for dirpath, dirnames, filenames in os.walk(root_dir):\n",
    "        for dirname in list(dirnames):  # Use list to make a copy of dirnames\n",
    "            if dirname == target_folder_name:\n",
    "                # Construct the full path to the target directory\n",
    "                target_dir_path = os.path.join(dirpath, dirname)\n",
    "                \n",
    "                # Make sure the path exists before attempting to delete\n",
    "                if os.path.exists(target_dir_path) and os.path.isdir(target_dir_path):\n",
    "                    # Remove the directory and all its contents\n",
    "                    shutil.rmtree(target_dir_path)\n",
    "                    \n",
    "                    # Optional: Log the removal\n",
    "                    print(f\"Removed: {target_dir_path}\")\n",
    "                    \n",
    "                    # Remove the directory from the dirnames list to avoid walking into it\n",
    "                    dirnames.remove(dirname)\n",
    "\n"
   ]
  },
  {
   "cell_type": "code",
   "execution_count": 2,
   "metadata": {},
   "outputs": [
    {
     "name": "stdout",
     "output_type": "stream",
     "text": [
      "Removed: C:\\Users\\thomas.bush\\repos\\dyna-landslide-surrogate\\data_small\\00002\\04_FinalProcessedData\n",
      "Removed: C:\\Users\\thomas.bush\\repos\\dyna-landslide-surrogate\\data_small\\00003\\04_FinalProcessedData\n",
      "Removed: C:\\Users\\thomas.bush\\repos\\dyna-landslide-surrogate\\data_small\\00004\\04_FinalProcessedData\n",
      "Removed: C:\\Users\\thomas.bush\\repos\\dyna-landslide-surrogate\\data_small\\00005\\04_FinalProcessedData\n",
      "Removed: C:\\Users\\thomas.bush\\repos\\dyna-landslide-surrogate\\data_small\\00006\\04_FinalProcessedData\n",
      "Removed: C:\\Users\\thomas.bush\\repos\\dyna-landslide-surrogate\\data_small\\00007\\04_FinalProcessedData\n",
      "Removed: C:\\Users\\thomas.bush\\repos\\dyna-landslide-surrogate\\data_small\\00008\\04_FinalProcessedData\n",
      "Removed: C:\\Users\\thomas.bush\\repos\\dyna-landslide-surrogate\\data_small\\00009\\04_FinalProcessedData\n",
      "Removed: C:\\Users\\thomas.bush\\repos\\dyna-landslide-surrogate\\data_small\\00010\\04_FinalProcessedData\n",
      "Removed: C:\\Users\\thomas.bush\\repos\\dyna-landslide-surrogate\\data_small\\00072\\04_FinalProcessedData\n",
      "Removed: C:\\Users\\thomas.bush\\repos\\dyna-landslide-surrogate\\data_small\\00184\\04_FinalProcessedData\n",
      "Removed: C:\\Users\\thomas.bush\\repos\\dyna-landslide-surrogate\\data_small\\00295\\04_FinalProcessedData\n",
      "Removed: C:\\Users\\thomas.bush\\repos\\dyna-landslide-surrogate\\data_small\\00400\\04_FinalProcessedData\n"
     ]
    }
   ],
   "source": [
    "# Set your main directory path here\n",
    "main_directory_path = r'C:\\Users\\thomas.bush\\repos\\dyna-landslide-surrogate\\data_small'\n",
    "\n",
    "# Call the function with the main directory path and the name of the subfolder to remove\n",
    "remove_subfolder(main_directory_path, '04_FinalProcessedData')"
   ]
  }
 ],
 "metadata": {
  "kernelspec": {
   "display_name": "dyna-landslide-surrogate",
   "language": "python",
   "name": "python3"
  },
  "language_info": {
   "codemirror_mode": {
    "name": "ipython",
    "version": 3
   },
   "file_extension": ".py",
   "mimetype": "text/x-python",
   "name": "python",
   "nbconvert_exporter": "python",
   "pygments_lexer": "ipython3",
   "version": "3.11.8"
  }
 },
 "nbformat": 4,
 "nbformat_minor": 2
}
