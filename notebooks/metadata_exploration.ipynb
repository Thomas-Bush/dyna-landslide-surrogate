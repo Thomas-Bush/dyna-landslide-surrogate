{
 "cells": [
  {
   "cell_type": "code",
   "execution_count": 1,
   "metadata": {},
   "outputs": [
    {
     "name": "stderr",
     "output_type": "stream",
     "text": [
      "C:\\Users\\thomas.bush\\AppData\\Local\\Temp\\ipykernel_31692\\2290338610.py:3: DeprecationWarning: \n",
      "Pyarrow will become a required dependency of pandas in the next major release of pandas (pandas 3.0),\n",
      "(to allow more performant data types, such as the Arrow string type, and better interoperability with other libraries)\n",
      "but was not found to be installed on your system.\n",
      "If this would cause problems for you,\n",
      "please provide us feedback at https://github.com/pandas-dev/pandas/issues/54466\n",
      "        \n",
      "  import pandas as pd\n"
     ]
    }
   ],
   "source": [
    "import sys\n",
    "import os\n",
    "import pandas as pd\n",
    "import json\n",
    "import numpy as np\n",
    "import matplotlib.pyplot as plt\n",
    "  \n",
    "# append the path of the parent directory\n",
    "sys.path.append(\"..\")"
   ]
  },
  {
   "cell_type": "markdown",
   "metadata": {},
   "source": [
    "Helper Functions"
   ]
  },
  {
   "cell_type": "code",
   "execution_count": null,
   "metadata": {},
   "outputs": [],
   "source": [
    "def load_metadata(root_path):\n",
    "    \"\"\"Load metadata from JSON files into a dict of dicts.\n",
    "\n",
    "    Args:\n",
    "        root_path (str): The root directory containing model subdirectories.\n",
    "\n",
    "    Returns:\n",
    "        dict: A dictionary with model IDs as keys and metadata dictionaries as values.\n",
    "    \"\"\"\n",
    "    metadata_dict = {}\n",
    "    for model_dir in os.listdir(root_path):\n",
    "        model_path = os.path.join(root_path, model_dir)\n",
    "        if os.path.isdir(model_path):\n",
    "            metadata_file = os.path.join(model_path, f\"{model_dir}_metadata.json\")\n",
    "            if os.path.isfile(metadata_file):\n",
    "                with open(metadata_file, 'r') as file:\n",
    "                    metadata_dict[model_dir] = json.load(file)\n",
    "    return metadata_dict"
   ]
  },
  {
   "cell_type": "markdown",
   "metadata": {},
   "source": [
    "Exploration / Visualisation Functions\n"
   ]
  },
  {
   "cell_type": "code",
   "execution_count": null,
   "metadata": {},
   "outputs": [],
   "source": [
    "def plot_resolution_histogram(metadata, resolution_axis):\n",
    "    \"\"\"Plot a histogram of the resolutions in the metadata for a specified axis.\n",
    "\n",
    "    Args:\n",
    "        metadata (dict): A dictionary with model IDs as keys and metadata dictionaries as values.\n",
    "        resolution_axis (str): The axis to plot the resolution histogram for ('x' or 'y').\n",
    "    \"\"\"\n",
    "    # Ensure that the resolution_axis is either 'x' or 'y'\n",
    "    if resolution_axis not in ('x', 'y'):\n",
    "        raise ValueError(\"resolution_axis must be 'x' or 'y'\")\n",
    "\n",
    "    # Extract the resolutions for the specified axis\n",
    "    resolutions = [model_data[f'grid_resolution_{resolution_axis}'] for model_data in metadata.values()]\n",
    "\n",
    "    # Plot histogram for the specified resolutions\n",
    "    plt.figure(figsize=(7, 5))\n",
    "    plt.hist(resolutions, bins=20, color='blue' if resolution_axis == 'x' else 'green', edgecolor='black')\n",
    "    plt.title(f'Histogram of {resolution_axis.upper()} Resolutions')\n",
    "    plt.xlabel('Resolution')\n",
    "    plt.ylabel('Frequency')\n",
    "    plt.show()\n",
    "\n",
    "def find_different_resolutions(metadata):\n",
    "    \"\"\"Find models where X and Y resolutions are different.\n",
    "\n",
    "    Args:\n",
    "        metadata (dict): A dictionary with model IDs as keys and metadata dictionaries as values.\n",
    "\n",
    "    Returns:\n",
    "        list: A list of model IDs where the X and Y resolutions are not the same.\n",
    "    \"\"\"\n",
    "    different_resolutions = [model_id for model_id, model_data in metadata.items()\n",
    "                             if model_data['grid_resolution_x'] != model_data['grid_resolution_y']]\n",
    "    return different_resolutions"
   ]
  },
  {
   "cell_type": "code",
   "execution_count": null,
   "metadata": {},
   "outputs": [],
   "source": [
    "root_dir = r\"C:\\Users\\thomas.bush\\repos\\dyna-landslide-surrogate\\data\"\n",
    "\n",
    "metadata = load_metadata(root_dir)"
   ]
  },
  {
   "cell_type": "code",
   "execution_count": null,
   "metadata": {},
   "outputs": [],
   "source": [
    "# Find and print the list of models with different X and Y resolutions\n",
    "models_with_different_resolutions = find_different_resolutions(metadata)\n",
    "print(\"Models with different X and Y resolutions:\", models_with_different_resolutions)"
   ]
  },
  {
   "cell_type": "code",
   "execution_count": null,
   "metadata": {},
   "outputs": [],
   "source": [
    "# Plot the histogram of X resolutions\n",
    "plot_resolution_histogram(metadata, 'x')\n",
    "\n",
    "# Plot the histogram of Y resolutions\n",
    "plot_resolution_histogram(metadata, 'y')"
   ]
  },
  {
   "cell_type": "code",
   "execution_count": null,
   "metadata": {},
   "outputs": [],
   "source": []
  }
 ],
 "metadata": {
  "kernelspec": {
   "display_name": "dyna-landslide-surrogate",
   "language": "python",
   "name": "python3"
  },
  "language_info": {
   "codemirror_mode": {
    "name": "ipython",
    "version": 3
   },
   "file_extension": ".py",
   "mimetype": "text/x-python",
   "name": "python",
   "nbconvert_exporter": "python",
   "pygments_lexer": "ipython3",
   "version": "3.11.8"
  }
 },
 "nbformat": 4,
 "nbformat_minor": 2
}
