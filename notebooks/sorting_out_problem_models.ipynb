{
 "cells": [
  {
   "cell_type": "markdown",
   "metadata": {},
   "source": [
    "# SORT THESE OUT LATER"
   ]
  },
  {
   "cell_type": "code",
   "execution_count": 3,
   "metadata": {},
   "outputs": [],
   "source": [
    "small_res_models = ['00202', '00210', '00230', '00233', '00235', '00242', '00243', '00249', '00250', '00255', '00257']\n",
    "\n",
    "uneven_res_models = [\"00082\",\"00083\",\"00084\",\"00085\",\"00086\",\"00087\",\"00088\",\"00206\",\"00210\",\"00213\",\"00214\",\"00230\",\"00233\",\"00235\",\"00242\",\"00243\",\"00249\",\"00250\",\"00255\",\"00257\"]"
   ]
  },
  {
   "cell_type": "code",
   "execution_count": 4,
   "metadata": {},
   "outputs": [],
   "source": [
    "problem_models = set(small_res_models + uneven_res_models)"
   ]
  },
  {
   "cell_type": "code",
   "execution_count": 5,
   "metadata": {},
   "outputs": [
    {
     "data": {
      "text/plain": [
       "{'00082',\n",
       " '00083',\n",
       " '00084',\n",
       " '00085',\n",
       " '00086',\n",
       " '00087',\n",
       " '00088',\n",
       " '00202',\n",
       " '00206',\n",
       " '00210',\n",
       " '00213',\n",
       " '00214',\n",
       " '00230',\n",
       " '00233',\n",
       " '00235',\n",
       " '00242',\n",
       " '00243',\n",
       " '00249',\n",
       " '00250',\n",
       " '00255',\n",
       " '00257'}"
      ]
     },
     "execution_count": 5,
     "metadata": {},
     "output_type": "execute_result"
    }
   ],
   "source": [
    "problem_models"
   ]
  }
 ],
 "metadata": {
  "kernelspec": {
   "display_name": "dyna-landslide-surrogate",
   "language": "python",
   "name": "python3"
  },
  "language_info": {
   "codemirror_mode": {
    "name": "ipython",
    "version": 3
   },
   "file_extension": ".py",
   "mimetype": "text/x-python",
   "name": "python",
   "nbconvert_exporter": "python",
   "pygments_lexer": "ipython3",
   "version": "3.11.8"
  }
 },
 "nbformat": 4,
 "nbformat_minor": 2
}
