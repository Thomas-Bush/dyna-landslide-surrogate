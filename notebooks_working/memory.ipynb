{
 "cells": [
  {
   "cell_type": "code",
   "execution_count": 1,
   "metadata": {},
   "outputs": [
    {
     "name": "stdout",
     "output_type": "stream",
     "text": [
      "C:/$Recycle.Bin: 0.00 GB\n",
      "C:/$SysReset: 0.00 GB\n",
      "C:/$WinREAgent: 0.00 GB\n",
      "C:/Autodesk: 0.54 GB\n",
      "C:/ClickShareApp: 0.90 GB\n",
      "C:/Config.Msi: 0.00 GB\n",
      "C:/Documents and Settings: 0.00 GB\n",
      "C:/hp: 0.01 GB\n",
      "C:/ladybug: 0.00 GB\n",
      "C:/Oasys 21: 0.24 GB\n",
      "C:/OneDriveTemp: 0.06 GB\n",
      "C:/path: 0.00 GB\n",
      "C:/PerfLogs: 0.00 GB\n",
      "C:/Program Files: 63.94 GB\n",
      "C:/Program Files (x86): 18.56 GB\n",
      "C:/ProgramData: 88.69 GB\n",
      "C:/Projext X: 0.00 GB\n",
      "C:/Python27: 0.33 GB\n",
      "C:/Recovery: 0.00 GB\n",
      "C:/SWSetup: 0.02 GB\n",
      "C:/System Volume Information: 0.00 GB\n",
      "C:/TeklaStructures: 7.42 GB\n",
      "C:/Temp: 0.00 GB\n"
     ]
    },
    {
     "ename": "KeyboardInterrupt",
     "evalue": "",
     "output_type": "error",
     "traceback": [
      "\u001b[1;31m---------------------------------------------------------------------------\u001b[0m",
      "\u001b[1;31mKeyboardInterrupt\u001b[0m                         Traceback (most recent call last)",
      "Cell \u001b[1;32mIn[1], line 19\u001b[0m\n\u001b[0;32m     17\u001b[0m \u001b[38;5;66;03m# Calculate and print the size for each directory\u001b[39;00m\n\u001b[0;32m     18\u001b[0m \u001b[38;5;28;01mfor\u001b[39;00m \u001b[38;5;28mdir\u001b[39m \u001b[38;5;129;01min\u001b[39;00m top_level_dirs:\n\u001b[1;32m---> 19\u001b[0m     size \u001b[38;5;241m=\u001b[39m \u001b[43mget_size\u001b[49m\u001b[43m(\u001b[49m\u001b[38;5;28;43mdir\u001b[39;49m\u001b[43m)\u001b[49m\n\u001b[0;32m     20\u001b[0m     \u001b[38;5;28mprint\u001b[39m(\u001b[38;5;124mf\u001b[39m\u001b[38;5;124m\"\u001b[39m\u001b[38;5;132;01m{\u001b[39;00m\u001b[38;5;28mdir\u001b[39m\u001b[38;5;132;01m}\u001b[39;00m\u001b[38;5;124m: \u001b[39m\u001b[38;5;132;01m{\u001b[39;00msize\u001b[38;5;250m \u001b[39m\u001b[38;5;241m/\u001b[39m\u001b[38;5;250m \u001b[39m(\u001b[38;5;241m1024\u001b[39m\u001b[38;5;241m*\u001b[39m\u001b[38;5;241m*\u001b[39m\u001b[38;5;241m3\u001b[39m)\u001b[38;5;132;01m:\u001b[39;00m\u001b[38;5;124m.2f\u001b[39m\u001b[38;5;132;01m}\u001b[39;00m\u001b[38;5;124m GB\u001b[39m\u001b[38;5;124m\"\u001b[39m)\n\u001b[0;32m     22\u001b[0m \u001b[38;5;66;03m# Get total disk usage for the C drive\u001b[39;00m\n",
      "Cell \u001b[1;32mIn[1], line 10\u001b[0m, in \u001b[0;36mget_size\u001b[1;34m(start_path)\u001b[0m\n\u001b[0;32m      8\u001b[0m     \u001b[38;5;28;01mfor\u001b[39;00m f \u001b[38;5;129;01min\u001b[39;00m filenames:\n\u001b[0;32m      9\u001b[0m         fp \u001b[38;5;241m=\u001b[39m os\u001b[38;5;241m.\u001b[39mpath\u001b[38;5;241m.\u001b[39mjoin(dirpath, f)\n\u001b[1;32m---> 10\u001b[0m         \u001b[38;5;28;01mif\u001b[39;00m \u001b[38;5;129;01mnot\u001b[39;00m \u001b[43mos\u001b[49m\u001b[38;5;241;43m.\u001b[39;49m\u001b[43mpath\u001b[49m\u001b[38;5;241;43m.\u001b[39;49m\u001b[43mislink\u001b[49m\u001b[43m(\u001b[49m\u001b[43mfp\u001b[49m\u001b[43m)\u001b[49m:\n\u001b[0;32m     11\u001b[0m             total_size \u001b[38;5;241m+\u001b[39m\u001b[38;5;241m=\u001b[39m os\u001b[38;5;241m.\u001b[39mpath\u001b[38;5;241m.\u001b[39mgetsize(fp)\n\u001b[0;32m     12\u001b[0m \u001b[38;5;28;01mreturn\u001b[39;00m total_size\n",
      "File \u001b[1;32m<frozen ntpath>:261\u001b[0m, in \u001b[0;36mislink\u001b[1;34m(path)\u001b[0m\n",
      "\u001b[1;31mKeyboardInterrupt\u001b[0m: "
     ]
    }
   ],
   "source": [
    "import os\n",
    "import psutil\n",
    "\n",
    "# Function to get the size of a directory\n",
    "def get_size(start_path):\n",
    "    total_size = 0\n",
    "    for dirpath, dirnames, filenames in os.walk(start_path):\n",
    "        for f in filenames:\n",
    "            fp = os.path.join(dirpath, f)\n",
    "            if not os.path.islink(fp):\n",
    "                total_size += os.path.getsize(fp)\n",
    "    return total_size\n",
    "\n",
    "# Get the list of all top-level directories in C drive\n",
    "top_level_dirs = [os.path.join('C:/', d) for d in os.listdir('C:/') if os.path.isdir(os.path.join('C:/', d))]\n",
    "\n",
    "# Calculate and print the size for each directory\n",
    "for dir in top_level_dirs:\n",
    "    size = get_size(dir)\n",
    "    print(f\"{dir}: {size / (1024**3):.2f} GB\")\n",
    "\n",
    "# Get total disk usage for the C drive\n",
    "total_usage = psutil.disk_usage('C:/')\n",
    "print(f\"Total used space on C Drive: {total_usage.used / (1024**3):.2f} GB\")\n",
    "print(f\"Total free space on C Drive: {total_usage.free / (1024**3):.2f} GB\")"
   ]
  }
 ],
 "metadata": {
  "kernelspec": {
   "display_name": "dyna-landslide-surrogate",
   "language": "python",
   "name": "python3"
  },
  "language_info": {
   "codemirror_mode": {
    "name": "ipython",
    "version": 3
   },
   "file_extension": ".py",
   "mimetype": "text/x-python",
   "name": "python",
   "nbconvert_exporter": "python",
   "pygments_lexer": "ipython3",
   "version": "3.11.8"
  }
 },
 "nbformat": 4,
 "nbformat_minor": 2
}
