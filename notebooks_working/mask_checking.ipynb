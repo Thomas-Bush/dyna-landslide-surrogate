{
 "cells": [
  {
   "cell_type": "code",
   "execution_count": 2,
   "metadata": {},
   "outputs": [],
   "source": [
    "import os\n",
    "import numpy as np\n",
    "\n",
    "# Define the base path for the data directory\n",
    "base_path = r\"C:\\Users\\thomas.bush\\repos\\dyna-landslide-surrogate\\data\"\n",
    "\n",
    "# Function to check if the mask is valid (256x256 and contains only 0 or 1)\n",
    "def is_valid_mask(mask):\n",
    "    if mask.shape != (256, 256):\n",
    "        return False\n",
    "    if not np.isin(mask, [0, 1]).all():\n",
    "        return False\n",
    "    return True\n",
    "\n",
    "# Loop through the subdirectories in the 'data' folder to find model IDs\n",
    "for model_id in os.listdir(base_path):\n",
    "    # Construct the path to the mask file\n",
    "    mask_path = os.path.join(base_path, model_id, \"04_FinalProcessedData_256\", \"gan\", \"input\", f\"{model_id}_mask.npy\")\n",
    "    \n",
    "    # Check if the mask file exists\n",
    "    if not os.path.exists(mask_path):\n",
    "        print(f\"Missing mask file for model ID {model_id}\")\n",
    "        continue\n",
    "    \n",
    "    # Load the mask array\n",
    "    try:\n",
    "        mask_array = np.load(mask_path)\n",
    "    except Exception as e:\n",
    "        print(f\"Error loading mask file for model ID {model_id}: {e}\")\n",
    "        continue\n",
    "    \n",
    "    # Check if the mask array is valid\n",
    "    if not is_valid_mask(mask_array):\n",
    "        print(f\"Invalid mask for model ID {model_id} at {mask_path}\")"
   ]
  }
 ],
 "metadata": {
  "kernelspec": {
   "display_name": "dyna-landslide-surrogate",
   "language": "python",
   "name": "python3"
  },
  "language_info": {
   "codemirror_mode": {
    "name": "ipython",
    "version": 3
   },
   "file_extension": ".py",
   "mimetype": "text/x-python",
   "name": "python",
   "nbconvert_exporter": "python",
   "pygments_lexer": "ipython3",
   "version": "3.11.8"
  }
 },
 "nbformat": 4,
 "nbformat_minor": 2
}
