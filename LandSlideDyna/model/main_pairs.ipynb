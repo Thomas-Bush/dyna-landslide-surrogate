{
 "cells": [
  {
   "cell_type": "code",
   "execution_count": 1,
   "metadata": {},
   "outputs": [],
   "source": [
    "import sys\n",
    "# append the path of the parent directory\n",
    "sys.path.append(\"..\")\n",
    "\n",
    "# External library imports\n",
    "import torch\n",
    "import torch.nn as nn\n",
    "import numpy as np\n",
    "import random\n",
    "from torch.optim import Adam\n",
    "from torch.utils.data import DataLoader, Subset, random_split\n",
    "\n",
    "# internal library imports\n",
    "from dataset import DebrisStatePairsDataset\n",
    "from model import UNet, ComplexCNN, LargeUNet, SimpleUNet\n",
    "from train import TrainerPairs\n",
    "from util.setting_utils import set_seed\n",
    "\n",
    "\n"
   ]
  },
  {
   "cell_type": "code",
   "execution_count": 2,
   "metadata": {},
   "outputs": [],
   "source": [
    "# Set the random seed for multiple libraries to ensure repeatability\n",
    "\n",
    "set_seed(42)"
   ]
  },
  {
   "cell_type": "code",
   "execution_count": null,
   "metadata": {},
   "outputs": [],
   "source": [
    "# Parameters\n",
    "\n",
    "root_dir = r'/home/tom/repos/dyna-landslide-surrogate/data'\n",
    "checkpoint_dir = r'/home/tom/repos/dyna-landslide-surrogate/checkpoints'\n",
    "batch_size = 128\n",
    "split_proportions = (0.7, 0.15, 0.15)\n",
    "epochs = 50\n",
    "\n",
    "in_channels = 3  # Number of input channels (e.g., terrain, velocity, thickness)\n",
    "out_channels = 2  # Number of output channels (e.g., next velocity, next thickness)"
   ]
  },
  {
   "cell_type": "code",
   "execution_count": null,
   "metadata": {},
   "outputs": [],
   "source": [
    "# Data set up\n",
    "\n",
    "# Initialize dataset with scaling\n",
    "dataset = DebrisStatePairsDataset(root_dir, array_size=256, apply_scaling=True)\n",
    "\n",
    "# Split dataset into train, validation, and test sets and create dataloaders\n",
    "train_loader, val_loader, test_loader = dataset.create_dataloaders(split_proportions, batch_size, random_state=42)\n",
    "\n",
    "# Compute scaling factors based on the train dataset, but only if scaling is applied\n",
    "if dataset.apply_scaling:\n",
    "    train_dataset = train_loader.dataset.dataset \n",
    "    dataset.compute_scaling_factors()\n",
    "\n",
    "# Dataset stats\n",
    "print(f\"Total dataset size: {len(dataset)}\")\n",
    "print(f\"Train size: {len(train_loader.dataset)}, Validation size: {len(val_loader.dataset)}, Test size: {len(test_loader.dataset)}\")"
   ]
  },
  {
   "cell_type": "code",
   "execution_count": null,
   "metadata": {},
   "outputs": [],
   "source": [
    "# Model setup\n",
    "\n",
    "models = [\n",
    "    {'model': ComplexCNN(), 'name': 'complex_cnn'}, \n",
    "    {'model': LargeUNet(), 'name': 'large_unet'},\n",
    "    {'model': UNet(in_channels=in_channels, out_channels=out_channels), 'name': 'unet'}\n",
    "]"
   ]
  },
  {
   "cell_type": "code",
   "execution_count": null,
   "metadata": {},
   "outputs": [],
   "source": [
    "# Set up CUDA\n",
    "device = torch.device(\"cuda\" if torch.cuda.is_available() else \"cpu\")\n",
    "print(f\"Training on device: {device}.\")\n",
    "\n",
    "# Train each model\n",
    "for model_info in models:\n",
    "    \n",
    "    model = model_info['model']\n",
    "\n",
    "    # Check if multiple GPUs are available and wrap the model using nn.DataParallel\n",
    "    if torch.cuda.device_count() > 1:\n",
    "        print(f\"Using {torch.cuda.device_count()} GPUs!\")\n",
    "        # This will wrap the model for use with multiple GPUs\n",
    "        model = torch.nn.DataParallel(model)\n",
    "    \n",
    "    # Move model to the appropriate device\n",
    "    model.to(device)\n",
    "    \n",
    "    # Define the loss function and optimizer\n",
    "    criterion = nn.MSELoss()\n",
    "    optimizer = Adam(model.parameters(), lr=1e-3)\n",
    "    \n",
    "    # Initialize the trainer\n",
    "    model_name = model_info['name']\n",
    "    trainer = TrainerPairs(model, optimizer, criterion, device, model_name=model_name, checkpoint_dir=checkpoint_dir)\n",
    "    \n",
    "    # Train the model\n",
    "    print(f\"Training {model_name}...\")\n",
    "    trainer.train(train_loader, val_loader, epochs=epochs, checkpoint_interval=5)\n",
    "    \n",
    "    print(f\"Finished training {model_name}.\")"
   ]
  },
  {
   "cell_type": "code",
   "execution_count": null,
   "metadata": {},
   "outputs": [],
   "source": [
    "# Evaluate the model on the test set\n",
    "print(\"Plotting losses...\")\n",
    "trainer.plot_losses()"
   ]
  },
  {
   "cell_type": "code",
   "execution_count": null,
   "metadata": {},
   "outputs": [],
   "source": [
    "# Evaluate the model on the test set\n",
    "print(\"Evaluating the model on the test set...\")\n",
    "trainer.test(test_loader)\n"
   ]
  },
  {
   "cell_type": "code",
   "execution_count": null,
   "metadata": {},
   "outputs": [],
   "source": [
    "trainer.plot_predictions(test_loader, num_predictions=1)"
   ]
  }
 ],
 "metadata": {
  "kernelspec": {
   "display_name": "dyna-landslide-surrogate",
   "language": "python",
   "name": "python3"
  },
  "language_info": {
   "codemirror_mode": {
    "name": "ipython",
    "version": 3
   },
   "file_extension": ".py",
   "mimetype": "text/x-python",
   "name": "python",
   "nbconvert_exporter": "python",
   "pygments_lexer": "ipython3",
   "version": "3.12.2"
  }
 },
 "nbformat": 4,
 "nbformat_minor": 2
}
