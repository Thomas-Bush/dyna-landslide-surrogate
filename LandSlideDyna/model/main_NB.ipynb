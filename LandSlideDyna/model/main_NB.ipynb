{
 "cells": [
  {
   "cell_type": "code",
   "execution_count": 6,
   "metadata": {},
   "outputs": [
    {
     "name": "stdout",
     "output_type": "stream",
     "text": [
      "cpu\n"
     ]
    }
   ],
   "source": [
    "import torch\n",
    "from model import CNNLSTM  # Replace with your actual model class name if different\n",
    "from dataset import DebrisFlowDataset  # Replace with your actual dataset class name if different\n",
    "from train import Trainer\n",
    "from torch.optim import Adam\n",
    "from torch.utils.data import DataLoader\n",
    "from torch.utils.data import random_split\n",
    "\n",
    "# Set device\n",
    "device = torch.device('cuda' if torch.cuda.is_available() else 'cpu')\n",
    "\n",
    "print(device)\n"
   ]
  },
  {
   "cell_type": "code",
   "execution_count": 7,
   "metadata": {},
   "outputs": [],
   "source": [
    "\n",
    "# Load the complete dataset\n",
    "full_dataset = DebrisFlowDataset(r'C:\\Users\\thomas.bush\\repos\\dyna-landslide-surrogate\\data_temp', 5)\n",
    "\n",
    "# Define the size of the train and validation datasets\n",
    "train_size = int(0.8 * len(full_dataset))\n",
    "val_size = len(full_dataset) - train_size\n",
    "\n",
    "# Perform the split\n",
    "train_dataset, val_dataset = random_split(full_dataset, [train_size, val_size])\n"
   ]
  },
  {
   "cell_type": "code",
   "execution_count": null,
   "metadata": {},
   "outputs": [],
   "source": []
  },
  {
   "cell_type": "code",
   "execution_count": 8,
   "metadata": {},
   "outputs": [],
   "source": [
    "# Define model\n",
    "model = CNNLSTM(in_channels=3, lstm_hidden_size=1500)  # Replace CNNLSTM with your actual model class name\n",
    "\n",
    "# Check if multiple GPUs are available and wrap the model using nn.DataParallel\n",
    "if torch.cuda.device_count() > 1:\n",
    "    print(f\"Let's use {torch.cuda.device_count()} GPUs!\")\n",
    "    # This will wrap the model for use with multiple GPUs\n",
    "    model = torch.nn.DataParallel(model)\n",
    "\n",
    "model = model.to(device)\n",
    "\n",
    "\n",
    "# Define loss function and optimizer\n",
    "criterion = torch.nn.MSELoss()  # Choose the appropriate loss function for your problem\n",
    "optimizer = Adam(model.parameters(), lr=1e-3)\n",
    "\n",
    "# Initialize Trainer\n",
    "# Parameters for data loading\n",
    "batch_size = 3\n",
    "shuffle = True\n",
    "num_workers = 4\n",
    "\n",
    "# Create the DataLoader for the training set\n",
    "train_loader = DataLoader(train_dataset, batch_size=batch_size, shuffle=shuffle, num_workers=num_workers)\n",
    "\n",
    "# Create the DataLoader for the validation set\n",
    "val_loader = DataLoader(val_dataset, batch_size=batch_size, shuffle=False, num_workers=num_workers)\n",
    "\n",
    "# Initialize Trainer with DataLoaders\n",
    "trainer = Trainer(model=model, train_dataloader=train_loader, val_dataloader=val_loader,\n",
    "                  criterion=criterion, optimizer=optimizer, device=device)\n",
    "\n",
    "\n",
    "\n",
    "\n",
    "\n",
    "\n",
    "\n"
   ]
  },
  {
   "cell_type": "code",
   "execution_count": 9,
   "metadata": {},
   "outputs": [],
   "source": [
    "# Train the model\n",
    "num_epochs = 10  # Set the number of epochs you wish to train for\n",
    "trainer.train(num_epochs)"
   ]
  }
 ],
 "metadata": {
  "kernelspec": {
   "display_name": "dyna-landslide-surrogate",
   "language": "python",
   "name": "python3"
  },
  "language_info": {
   "codemirror_mode": {
    "name": "ipython",
    "version": 3
   },
   "file_extension": ".py",
   "mimetype": "text/x-python",
   "name": "python",
   "nbconvert_exporter": "python",
   "pygments_lexer": "ipython3",
   "version": "3.11.8"
  }
 },
 "nbformat": 4,
 "nbformat_minor": 2
}
