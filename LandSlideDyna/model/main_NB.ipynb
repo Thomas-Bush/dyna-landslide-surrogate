{
 "cells": [
  {
   "cell_type": "code",
   "execution_count": 1,
   "metadata": {},
   "outputs": [
    {
     "name": "stdout",
     "output_type": "stream",
     "text": [
      "cuda\n"
     ]
    }
   ],
   "source": [
    "import sys\n",
    "# append the path of the parent directory\n",
    "sys.path.append(\"..\")\n",
    "\n",
    "import torch\n",
    "import torch.nn as nn\n",
    "import numpy as np\n",
    "import random\n",
    "\n",
    "from model import UNet\n",
    "from dataset import Debris_State_Pairs_Dataset\n",
    "\n",
    "from train import Trainer\n",
    "\n",
    "from torch.optim import Adam\n",
    "from torch.utils.data import DataLoader, Subset, random_split\n"
   ]
  },
  {
   "cell_type": "code",
   "execution_count": 2,
   "metadata": {},
   "outputs": [],
   "source": [
    "def set_seed(seed_value):\n",
    "    \"\"\"Set seed for reproducibility.\"\"\"\n",
    "    np.random.seed(seed_value)  # NumPy\n",
    "    torch.manual_seed(seed_value)  # PyTorch\n",
    "    random.seed(seed_value)  # Python's built-in random module\n",
    "    \n",
    "    # minimise non-deterministic GPU behaviour\n",
    "    torch.backends.cudnn.deterministic = True\n",
    "    torch.backends.cudnn.benchmark = False\n",
    "\n",
    "# Usage\n",
    "set_seed(42) "
   ]
  },
  {
   "cell_type": "code",
   "execution_count": null,
   "metadata": {},
   "outputs": [],
   "source": [
    "# Parameters\n",
    "\n",
    "root_dir = 'C:\\\\Users\\\\thomas.bush\\\\repos\\\\dyna-landslide-surrogate\\\\data_small'\n",
    "batch_size = 64\n",
    "split_proportions = (0.7, 0.15, 0.15)\n",
    "epochs = 5"
   ]
  },
  {
   "cell_type": "code",
   "execution_count": 1,
   "metadata": {},
   "outputs": [],
   "source": [
    "# Data set up\n",
    "\n",
    "# Initialize dataset with scaling\n",
    "dataset = Debris_State_Pairs_Dataset(root_dir, array_size=128, apply_scaling=True)\n",
    "\n",
    "# Split dataset into train, validation, and test sets and create dataloaders\n",
    "train_loader, val_loader, test_loader = dataset.create_dataloaders(split_proportions, batch_size, random_state=42)\n",
    "\n",
    "# Compute scaling factors based on the train dataset, but only if scaling is applied\n",
    "if dataset.apply_scaling:\n",
    "    train_dataset = train_loader.dataset.dataset \n",
    "    dataset.compute_scaling_factors()\n",
    "\n",
    "# Dataset stats (optional)\n",
    "print(f\"Total dataset size: {len(dataset)}\")\n",
    "print(f\"Train size: {len(train_loader.dataset)}, Validation size: {len(val_loader.dataset)}, Test size: {len(test_loader.dataset)}\")"
   ]
  },
  {
   "cell_type": "code",
   "execution_count": null,
   "metadata": {},
   "outputs": [],
   "source": [
    "# Check if CUDA is available\n",
    "device = torch.device(\"cuda\" if torch.cuda.is_available() else \"cpu\")\n",
    "print(f\"Training on device: {device}.\")\n",
    "\n",
    "# TO DO - add multu GPU support here"
   ]
  },
  {
   "cell_type": "code",
   "execution_count": null,
   "metadata": {},
   "outputs": [],
   "source": [
    "# List of models to train\n",
    "# models = [\n",
    "#     {'model': Complex_CNN(), 'name': 'complex_cnn'},\n",
    "#     {'model': UNet(), 'name': 'unet'},\n",
    "#     {'model': LargeUNet(), 'name': 'large_unet'}\n",
    "# ]\n",
    "\n",
    "# models = [\n",
    "#     {'model': Complex_CNN(), 'name': 'complex_cnn'}\n",
    "# ]\n",
    "\n",
    "models = [\n",
    "    {'model': UNet(in_channels=3, out_channels=2), 'name': 'unet'}\n",
    "]\n",
    "\n",
    "# models = [\n",
    "#     {'model': LargeUNet(), 'name': 'large_unet'}\n",
    "# ]"
   ]
  },
  {
   "cell_type": "code",
   "execution_count": null,
   "metadata": {},
   "outputs": [],
   "source": [
    "# Train each model\n",
    "for model_info in models:\n",
    "    \n",
    "    # # Check if multiple GPUs are available and wrap the model using nn.DataParallel\n",
    "    # if torch.cuda.device_count() > 1:\n",
    "    #     print(f\"Let's use {torch.cuda.device_count()} GPUs!\")\n",
    "    #     # This will wrap the model for use with multiple GPUs\n",
    "    #     model = torch.nn.DataParallel(model)\n",
    "    \n",
    "    # Move model to the appropriate device\n",
    "    model = model_info['model'].to(device)\n",
    "    \n",
    "    # Define the loss function and optimizer\n",
    "    criterion = nn.MSELoss()\n",
    "    optimizer = Adam(model.parameters(), lr=1e-3)\n",
    "    \n",
    "    # Initialize the trainer\n",
    "    model_name = model_info['name']\n",
    "    trainer = Trainer(model, optimizer, criterion, device, model_name=model_name + \"_test\")\n",
    "    \n",
    "    # Train the model\n",
    "    print(f\"Training {model_name}...\")\n",
    "    trainer.train(train_loader, val_loader, epochs=epochs, checkpoint_interval=5)\n",
    "    \n",
    "    # Save the trained model state\n",
    "    torch.save(model.state_dict(), f\"{model_name}_state.pth\")\n",
    "\n",
    "    print(f\"Finished training {model_name}. Model state saved.\")"
   ]
  },
  {
   "cell_type": "code",
   "execution_count": null,
   "metadata": {},
   "outputs": [],
   "source": [
    "trainer.plot_losses()"
   ]
  },
  {
   "cell_type": "code",
   "execution_count": null,
   "metadata": {},
   "outputs": [],
   "source": [
    "trainer.test(test_loader)\n"
   ]
  },
  {
   "cell_type": "code",
   "execution_count": null,
   "metadata": {},
   "outputs": [],
   "source": [
    "trainer.plot_predictions(test_loader, num_predictions=1)"
   ]
  }
 ],
 "metadata": {
  "kernelspec": {
   "display_name": "dyna-landslide-surrogate",
   "language": "python",
   "name": "python3"
  },
  "language_info": {
   "codemirror_mode": {
    "name": "ipython",
    "version": 3
   },
   "file_extension": ".py",
   "mimetype": "text/x-python",
   "name": "python",
   "nbconvert_exporter": "python",
   "pygments_lexer": "ipython3",
   "version": "3.11.8"
  }
 },
 "nbformat": 4,
 "nbformat_minor": 2
}
