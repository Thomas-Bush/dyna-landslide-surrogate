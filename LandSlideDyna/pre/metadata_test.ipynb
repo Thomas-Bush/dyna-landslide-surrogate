{
 "cells": [
  {
   "cell_type": "code",
   "execution_count": 1,
   "metadata": {},
   "outputs": [],
   "source": [
    "from metadata import ModelMetadata\n",
    "import os\n"
   ]
  },
  {
   "cell_type": "code",
   "execution_count": 19,
   "metadata": {},
   "outputs": [],
   "source": [
    "data_dir = r\"\\\\global\\EastAsia\\HKG\\Group\\GEO\\Specialism\\Engineering Geology\\AI\\01 LSDyna Surrogate\\Data\\02_selected_processed\"\n",
    "\n",
    "model_ids = []\n",
    "\n",
    "for entry in os.listdir(data_dir):\n",
    "    path = os.path.join(data_dir, entry)\n",
    "    if os.path.isdir(path):\n",
    "        ignore_file_path = os.path.join(path, \"ignore.txt\")\n",
    "        if not os.path.exists(ignore_file_path):\n",
    "            model_id = entry\n",
    "            model_ids.append(model_id)\n",
    "\n"
   ]
  },
  {
   "cell_type": "code",
   "execution_count": 4,
   "metadata": {},
   "outputs": [],
   "source": [
    "data_dir = r\"\\\\global\\EastAsia\\HKG\\Group\\GEO\\Specialism\\Engineering Geology\\AI\\01 LSDyna Surrogate\\Data\\02_selected_processed\"\n",
    "\n",
    "model_ids = [ '00383',\n",
    " '00384',\n",
    " '00385',\n",
    " '00386',\n",
    " '00387',\n",
    " '00388',\n",
    " '00389',\n",
    " '00390',\n",
    " '00391',\n",
    " '00392',\n",
    " '00394',\n",
    " '00395',\n",
    " '00396',\n",
    " '00397',\n",
    " '00398',\n",
    " '00399',\n",
    " '00400',\n",
    " '00401',\n",
    " '00402',\n",
    " '00403',\n",
    " '00404',\n",
    " '00405',\n",
    " '00406',\n",
    " '00407',\n",
    " '00408']"
   ]
  },
  {
   "cell_type": "code",
   "execution_count": null,
   "metadata": {},
   "outputs": [],
   "source": []
  },
  {
   "cell_type": "code",
   "execution_count": 5,
   "metadata": {},
   "outputs": [
    {
     "name": "stdout",
     "output_type": "stream",
     "text": [
      "Staring 00383\n",
      "finished 00383\n",
      "saved 00383\n",
      "Staring 00384\n",
      "finished 00384\n",
      "saved 00384\n",
      "Staring 00385\n",
      "finished 00385\n",
      "saved 00385\n",
      "Staring 00386\n",
      "finished 00386\n",
      "saved 00386\n",
      "Staring 00387\n",
      "finished 00387\n",
      "saved 00387\n",
      "Staring 00388\n",
      "finished 00388\n",
      "saved 00388\n",
      "Staring 00389\n",
      "finished 00389\n",
      "saved 00389\n",
      "Staring 00390\n",
      "finished 00390\n",
      "saved 00390\n",
      "Staring 00391\n",
      "finished 00391\n",
      "saved 00391\n",
      "Staring 00392\n",
      "finished 00392\n",
      "saved 00392\n",
      "Staring 00394\n",
      "finished 00394\n",
      "saved 00394\n",
      "Staring 00395\n",
      "finished 00395\n",
      "saved 00395\n",
      "Staring 00396\n",
      "finished 00396\n",
      "saved 00396\n",
      "Staring 00397\n",
      "finished 00397\n",
      "saved 00397\n",
      "Staring 00398\n",
      "finished 00398\n",
      "saved 00398\n",
      "Staring 00399\n",
      "finished 00399\n",
      "saved 00399\n",
      "Staring 00400\n",
      "finished 00400\n",
      "saved 00400\n",
      "Staring 00401\n",
      "finished 00401\n",
      "saved 00401\n",
      "Staring 00402\n",
      "finished 00402\n",
      "saved 00402\n",
      "Staring 00403\n",
      "finished 00403\n",
      "saved 00403\n",
      "Staring 00404\n",
      "finished 00404\n",
      "saved 00404\n",
      "Staring 00405\n",
      "finished 00405\n",
      "saved 00405\n",
      "Staring 00406\n",
      "finished 00406\n",
      "saved 00406\n",
      "Staring 00407\n",
      "finished 00407\n",
      "saved 00407\n",
      "Staring 00408\n",
      "finished 00408\n",
      "saved 00408\n"
     ]
    }
   ],
   "source": [
    "for model_id in model_ids:\n",
    "    print(f'Staring {model_id}')\n",
    "    meta = ModelMetadata(data_dir, model_id)\n",
    "    print(f\"finished {model_id}\")\n",
    "    meta.save_metadata()\n",
    "    print(f\"saved {model_id}\")"
   ]
  },
  {
   "cell_type": "code",
   "execution_count": null,
   "metadata": {},
   "outputs": [],
   "source": [
    "model_id = \"00003\"\n",
    "\n",
    "meta = ModelMetadata(data_dir, model_id)\n",
    "\n"
   ]
  },
  {
   "cell_type": "code",
   "execution_count": null,
   "metadata": {},
   "outputs": [],
   "source": [
    "meta.model_id"
   ]
  },
  {
   "cell_type": "code",
   "execution_count": null,
   "metadata": {},
   "outputs": [],
   "source": [
    "for key in meta.metadata:\n",
    "    print(key)"
   ]
  },
  {
   "cell_type": "code",
   "execution_count": null,
   "metadata": {},
   "outputs": [],
   "source": [
    "meta.metadata['average_timestep']"
   ]
  },
  {
   "cell_type": "markdown",
   "metadata": {},
   "source": []
  },
  {
   "cell_type": "code",
   "execution_count": null,
   "metadata": {},
   "outputs": [],
   "source": [
    "meta.metadata['bounding_boxes']"
   ]
  },
  {
   "cell_type": "code",
   "execution_count": null,
   "metadata": {},
   "outputs": [],
   "source": [
    "meta.metadata['state_statistics']"
   ]
  },
  {
   "cell_type": "code",
   "execution_count": null,
   "metadata": {},
   "outputs": [],
   "source": [
    "meta.metadata['debris_metrics']"
   ]
  },
  {
   "cell_type": "code",
   "execution_count": null,
   "metadata": {},
   "outputs": [],
   "source": [
    "meta.save_metadata()"
   ]
  }
 ],
 "metadata": {
  "kernelspec": {
   "display_name": "dyna-landslide-surrogate",
   "language": "python",
   "name": "python3"
  },
  "language_info": {
   "codemirror_mode": {
    "name": "ipython",
    "version": 3
   },
   "file_extension": ".py",
   "mimetype": "text/x-python",
   "name": "python",
   "nbconvert_exporter": "python",
   "pygments_lexer": "ipython3",
   "version": "3.11.8"
  }
 },
 "nbformat": 4,
 "nbformat_minor": 2
}
