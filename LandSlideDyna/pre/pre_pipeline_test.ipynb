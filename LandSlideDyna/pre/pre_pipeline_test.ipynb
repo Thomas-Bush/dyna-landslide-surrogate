{
 "cells": [
  {
   "cell_type": "code",
   "execution_count": 1,
   "metadata": {},
   "outputs": [],
   "source": [
    "import os\n",
    "import json\n",
    "import numpy as np\n",
    "\n",
    "from ptf_extractor import PTFDataExtractor\n",
    "from ptf_extractor import PTFImageExtractor\n",
    "from intial_processing import InitialProcessPipeline\n",
    "from final_processing import FinalProcessPipeline\n",
    "\n",
    "from pre_pipeline import PreprocessingPipeline\n",
    "\n"
   ]
  },
  {
   "cell_type": "code",
   "execution_count": 2,
   "metadata": {},
   "outputs": [],
   "source": [
    "DATA_PATH = r\"\\\\global\\EastAsia\\HKG\\Group\\GEO\\Specialism\\Engineering Geology\\AI\\01 LSDyna Surrogate\\Data\\data\"\n",
    "\n",
    "D3PLOTEXE = r\"C:\\Users\\thomas.bush\\AppData\\Roaming\\Ove Arup\\v21.0_x64\\d3plot21_0_x64.exe\""
   ]
  },
  {
   "cell_type": "code",
   "execution_count": null,
   "metadata": {},
   "outputs": [],
   "source": []
  },
  {
   "cell_type": "code",
   "execution_count": 3,
   "metadata": {},
   "outputs": [],
   "source": [
    "pipeline = PreprocessingPipeline(model_dir=DATA_PATH, d3plot_executable=D3PLOTEXE)"
   ]
  },
  {
   "cell_type": "code",
   "execution_count": 4,
   "metadata": {},
   "outputs": [
    {
     "name": "stdout",
     "output_type": "stream",
     "text": [
      "Skipping model 00011 as it is marked to be ignored.\n",
      "Skipping model 00012 as it is marked to be ignored.\n",
      "Running extraction pipeline for model 00382.\n",
      "Running initial processing pipeline for model 00382.\n",
      "Preprocessing pipeline completed.\n"
     ]
    }
   ],
   "source": [
    "pipeline.run()"
   ]
  },
  {
   "cell_type": "code",
   "execution_count": 5,
   "metadata": {},
   "outputs": [],
   "source": [
    "extract = PTFDataExtractor(D3PLOTEXE)"
   ]
  },
  {
   "cell_type": "code",
   "execution_count": 6,
   "metadata": {},
   "outputs": [
    {
     "data": {
      "text/plain": [
       "'d3plot_data_extractor.js'"
      ]
     },
     "execution_count": 6,
     "metadata": {},
     "output_type": "execute_result"
    }
   ],
   "source": [
    "extract.js_path"
   ]
  },
  {
   "cell_type": "code",
   "execution_count": 7,
   "metadata": {},
   "outputs": [
    {
     "name": "stdout",
     "output_type": "stream",
     "text": [
      "Shape of the array: (3162,)\n",
      "Data type of the array: float64\n",
      "Size of the array: 3162\n",
      "First few elements of the array: [837232.94 837233.94 837234.94 837235.94 837236.94 837237.94 837238.94\n",
      " 837239.94 837240.94 837241.94]\n",
      "Minimum value in the array: 837232.94\n",
      "Maximum value in the array: 837459.94\n",
      "There are no duplicates in the array.\n"
     ]
    }
   ],
   "source": [
    "# array_path = r\"\\\\global\\EastAsia\\HKG\\Group\\GEO\\Specialism\\Engineering Geology\\AI\\01 LSDyna Surrogate\\Data\\data\\00001\\03_initial_process\\thickness\\00001_thickness_13.npy\"\n",
    "array_path = r\"\\\\global\\EastAsia\\HKG\\Group\\GEO\\Specialism\\Engineering Geology\\AI\\01 LSDyna Surrogate\\Data\\data\\00001\\03_initial_process\\thickness\\00001_thickness_x_values.npy\"\n",
    "\n",
    "\n",
    "# Load the array from the .npy file\n",
    "array = np.load(array_path)\n",
    "\n",
    "# Print the shape of the array\n",
    "print(\"Shape of the array:\", array.shape)\n",
    "\n",
    "# Print the data type of the array\n",
    "print(\"Data type of the array:\", array.dtype)\n",
    "\n",
    "# Print the size of the array (number of elements)\n",
    "print(\"Size of the array:\", array.size)\n",
    "\n",
    "# Print the first few elements of the array to get a sense of the data\n",
    "print(\"First few elements of the array:\", array.flatten()[:10])\n",
    "\n",
    "# Find and print the minimum value in the array\n",
    "min_value = np.min(array)\n",
    "print(\"Minimum value in the array:\", min_value)\n",
    "\n",
    "# Find and print the maximum value in the array\n",
    "max_value = np.max(array)\n",
    "print(\"Maximum value in the array:\", max_value)\n",
    "\n",
    "# Flatten the array to 1D if it is 2D or higher\n",
    "flat_array = array.flatten()\n",
    "\n",
    "# Find the unique elements in the array\n",
    "unique_elements, counts = np.unique(flat_array, return_counts=True)\n",
    "\n",
    "# Check for duplicates by comparing sizes\n",
    "if len(unique_elements) < len(flat_array):\n",
    "    print(\"There are duplicates in the array.\")\n",
    "    # Optional: To print the duplicated elements\n",
    "    duplicates = unique_elements[counts > 1]\n",
    "    print(\"Duplicated elements:\", duplicates)\n",
    "else:\n",
    "    print(\"There are no duplicates in the array.\")\n",
    "\n",
    "# Save the 2D array to a CSV file\n",
    "np.savetxt('output_file.csv', array, delimiter=',', fmt='%s')"
   ]
  }
 ],
 "metadata": {
  "kernelspec": {
   "display_name": "dyna-landslide-surrogate",
   "language": "python",
   "name": "python3"
  },
  "language_info": {
   "codemirror_mode": {
    "name": "ipython",
    "version": 3
   },
   "file_extension": ".py",
   "mimetype": "text/x-python",
   "name": "python",
   "nbconvert_exporter": "python",
   "pygments_lexer": "ipython3",
   "version": "3.11.8"
  }
 },
 "nbformat": 4,
 "nbformat_minor": 2
}
