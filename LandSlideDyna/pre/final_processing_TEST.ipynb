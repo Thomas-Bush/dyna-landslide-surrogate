{
 "cells": [
  {
   "cell_type": "code",
   "execution_count": 5,
   "metadata": {},
   "outputs": [],
   "source": [
    "import sys\n",
    "import os\n",
    "import numpy as np\n",
    "\n",
    "# append the path of the parent directory\n",
    "sys.path.append(\"..\")\n",
    "\n",
    "from final_processing import FinalProcessor\n",
    "from viz import ArrayVisualizer\n",
    "\n",
    "\n",
    "\n",
    "# Get the list of all subfolders in the main_dir\n",
    "main_dir = r\"/home/tom/repos/dyna-landslide-surrogate/data\"\n",
    "subfolders = [f.name for f in os.scandir(main_dir) if f.is_dir()]\n",
    "\n"
   ]
  },
  {
   "cell_type": "code",
   "execution_count": 7,
   "metadata": {},
   "outputs": [
    {
     "data": {
      "text/plain": [
       "382"
      ]
     },
     "execution_count": 7,
     "metadata": {},
     "output_type": "execute_result"
    }
   ],
   "source": [
    "len(subfolders)"
   ]
  },
  {
   "cell_type": "code",
   "execution_count": 9,
   "metadata": {},
   "outputs": [],
   "source": [
    "# Iterate through each subfolder and apply the FinalProcessor\n",
    "for model_id in subfolders:\n",
    "    data = FinalProcessor(root_directory=main_dir, \n",
    "                          model_id=model_id,\n",
    "                          target_size=512,\n",
    "                          target_resolution=2, \n",
    "                          interpolation_order=1)\n",
    "    data.export_data(main_dir)"
   ]
  }
 ],
 "metadata": {
  "kernelspec": {
   "display_name": "dyna-landslide-surrogate",
   "language": "python",
   "name": "python3"
  },
  "language_info": {
   "codemirror_mode": {
    "name": "ipython",
    "version": 3
   },
   "file_extension": ".py",
   "mimetype": "text/x-python",
   "name": "python",
   "nbconvert_exporter": "python",
   "pygments_lexer": "ipython3",
   "version": "3.11.7"
  }
 },
 "nbformat": 4,
 "nbformat_minor": 2
}
