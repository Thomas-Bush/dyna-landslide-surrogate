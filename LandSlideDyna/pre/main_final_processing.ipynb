{
 "cells": [
  {
   "cell_type": "code",
   "execution_count": null,
   "metadata": {},
   "outputs": [],
   "source": [
    "# main_final_processing.ipynb\n",
    "\n",
    "# Notebook to apply the final processing to the data, \n",
    "# such that it is ready to be used in training the model."
   ]
  },
  {
   "cell_type": "code",
   "execution_count": 1,
   "metadata": {},
   "outputs": [],
   "source": [
    "import sys\n",
    "# append the path of the parent directory\n",
    "sys.path.append(\"..\")\n",
    "\n",
    "# External Imports\n",
    "import os\n",
    "import numpy as np\n",
    "\n",
    "# Internal Imports\n",
    "from final_processing import FinalProcessor\n",
    "from viz import ArrayVisualizer\n",
    "\n",
    "# Get the list of all subfolders in the main_dir\n",
    "main_dir = r\"/home/tom/repos/dyna-landslide-surrogate/data\"\n",
    "subfolders = [f.name for f in os.scandir(main_dir) if f.is_dir()]"
   ]
  },
  {
   "cell_type": "code",
   "execution_count": 3,
   "metadata": {},
   "outputs": [],
   "source": [
    "# Iterate through each subfolder and apply the FinalProcessor\n",
    "for model_id in subfolders:\n",
    "    data = FinalProcessor(root_directory=main_dir, \n",
    "                          model_id=model_id,\n",
    "                          target_size=256,\n",
    "                          target_resolution=2, \n",
    "                          interpolation_order=1)\n",
    "    data.export_data(main_dir)"
   ]
  },
  {
   "cell_type": "code",
   "execution_count": 5,
   "metadata": {},
   "outputs": [],
   "source": [
    "# Iterate over each model directory in the base directory\n",
    "for model_id in os.listdir(main_dir):\n",
    "    model_dir = os.path.join(main_dir, model_id, \"04_FinalProcessedData_128\")\n",
    "\n",
    "    # Check if the path is indeed a directory\n",
    "    if not os.path.isdir(model_dir):\n",
    "        continue\n",
    "\n",
    "    # In each model directory, look for thickness and velocity files\n",
    "    thickness_dir = os.path.join(model_dir, \"thickness\")\n",
    "    velocity_dir = os.path.join(model_dir, \"velocity\")\n",
    "\n",
    "    # Get the state numbers from the thickness files assuming they match the velocity files\n",
    "    state_numbers = [f.split('_')[-1].split('.')[0] for f in os.listdir(thickness_dir) if f.endswith('.npy')]\n",
    "\n",
    "    for state in state_numbers:\n",
    "        # Construct the file paths for thickness and velocity\n",
    "        thickness_file = os.path.join(thickness_dir, f\"{model_id}_thickness_{state}.npy\")\n",
    "        velocity_file = os.path.join(velocity_dir, f\"{model_id}_velocity_{state}.npy\")\n",
    "\n",
    "        # Check if both files exist to avoid errors\n",
    "        if not os.path.exists(thickness_file) or not os.path.exists(velocity_file):\n",
    "            continue\n",
    "\n",
    "        # Load the arrays\n",
    "        thickness_array = np.load(thickness_file)\n",
    "        velocity_array = np.load(velocity_file)\n",
    "\n",
    "        # Check if both arrays only contain zeroes\n",
    "        if np.all(thickness_array == 0) and np.all(velocity_array == 0):\n",
    "            # Delete the files if both only contain zeroes\n",
    "            os.remove(thickness_file)\n",
    "            os.remove(velocity_file)\n",
    "            print(f\"Deleted files with only zeroes for model {model_id} state {state}\")"
   ]
  }
 ],
 "metadata": {
  "kernelspec": {
   "display_name": "dyna-landslide-surrogate",
   "language": "python",
   "name": "python3"
  },
  "language_info": {
   "codemirror_mode": {
    "name": "ipython",
    "version": 3
   },
   "file_extension": ".py",
   "mimetype": "text/x-python",
   "name": "python",
   "nbconvert_exporter": "python",
   "pygments_lexer": "ipython3",
   "version": "3.12.2"
  }
 },
 "nbformat": 4,
 "nbformat_minor": 2
}
